{
 "cells": [
  {
   "cell_type": "code",
   "execution_count": 1,
   "metadata": {},
   "outputs": [
    {
     "name": "stderr",
     "output_type": "stream",
     "text": [
      "Using TensorFlow backend.\n"
     ]
    }
   ],
   "source": [
    "import os\n",
    "\n",
    "import pandas as pd\n",
    "import keras\n",
    "import pickle\n",
    "import pumpp\n",
    "from pescador.maps import buffer_stream, keras_tuples\n",
    "from sklearn.model_selection import ShuffleSplit\n",
    "\n",
    "from workspace import construct_model, make_sampler, data_generator, val_generator, val_sampler\n",
    "import train_utils"
   ]
  },
  {
   "cell_type": "code",
   "execution_count": 2,
   "metadata": {},
   "outputs": [
    {
     "name": "stderr",
     "output_type": "stream",
     "text": [
      "WARNING: Logging before flag parsing goes to stderr.\n",
      "W0915 21:12:26.810548 4607870400 deprecation_wrapper.py:119] From /Users/tom/.pyenv/versions/miniconda3-latest/envs/keys/lib/python3.7/site-packages/keras/backend/tensorflow_backend.py:107: The name tf.reset_default_graph is deprecated. Please use tf.compat.v1.reset_default_graph instead.\n",
      "\n",
      "W0915 21:12:26.867748 4607870400 deprecation_wrapper.py:119] From /Users/tom/.pyenv/versions/miniconda3-latest/envs/keys/lib/python3.7/site-packages/keras/backend/tensorflow_backend.py:111: The name tf.placeholder_with_default is deprecated. Please use tf.compat.v1.placeholder_with_default instead.\n",
      "\n",
      "W0915 21:12:26.870887 4607870400 deprecation_wrapper.py:119] From /Users/tom/.pyenv/versions/miniconda3-latest/envs/keys/lib/python3.7/site-packages/keras/backend/tensorflow_backend.py:66: The name tf.get_default_graph is deprecated. Please use tf.compat.v1.get_default_graph instead.\n",
      "\n"
     ]
    }
   ],
   "source": [
    "keras.backend.clear_session()"
   ]
  },
  {
   "cell_type": "code",
   "execution_count": 3,
   "metadata": {},
   "outputs": [],
   "source": [
    "DATA_HOME = \"/Users/tom/Music/GuitarSet/\"\n",
    "OUTPUT_PATH = 'resources'\n",
    "working = '/Users/tom/Music/GS_features/'\n",
    "max_samples = 8\n",
    "duration = 12\n",
    "poisson_rate = 4\n",
    "batch_size = 16\n",
    "epochs = 512\n",
    "epoch_size = 64\n",
    "reduce_lr = 8\n",
    "early_stopping = 32\n",
    "seed = 20190902"
   ]
  },
  {
   "cell_type": "code",
   "execution_count": 4,
   "metadata": {
    "scrolled": true
   },
   "outputs": [
    {
     "name": "stderr",
     "output_type": "stream",
     "text": [
      "W0915 21:12:28.669138 4607870400 deprecation_wrapper.py:119] From /Users/tom/.pyenv/versions/miniconda3-latest/envs/keys/lib/python3.7/site-packages/keras/backend/tensorflow_backend.py:541: The name tf.placeholder is deprecated. Please use tf.compat.v1.placeholder instead.\n",
      "\n",
      "W0915 21:12:28.698042 4607870400 deprecation_wrapper.py:119] From /Users/tom/.pyenv/versions/miniconda3-latest/envs/keys/lib/python3.7/site-packages/keras/backend/tensorflow_backend.py:190: The name tf.get_default_session is deprecated. Please use tf.compat.v1.get_default_session instead.\n",
      "\n",
      "W0915 21:12:28.796871 4607870400 deprecation_wrapper.py:119] From /Users/tom/.pyenv/versions/miniconda3-latest/envs/keys/lib/python3.7/site-packages/keras/backend/tensorflow_backend.py:2041: The name tf.nn.fused_batch_norm is deprecated. Please use tf.compat.v1.nn.fused_batch_norm instead.\n",
      "\n"
     ]
    }
   ],
   "source": [
    "pump = train_utils.make_pump()"
   ]
  },
  {
   "cell_type": "code",
   "execution_count": 5,
   "metadata": {},
   "outputs": [],
   "source": [
    "# Build the model\n",
    "model, inputs, outputs = construct_model(pump)"
   ]
  },
  {
   "cell_type": "code",
   "execution_count": 14,
   "metadata": {},
   "outputs": [],
   "source": [
    "# Build the sampler\n",
    "sampler = make_sampler(max_samples, duration, pump, seed)\n",
    "\n",
    "track_index = pd.read_json('guitarset_index.json')\n",
    "track_ids = [k + '_mic' for k in track_index.keys()]\n",
    "\n",
    "# Split the data into train val\n",
    "splitter_tv = ShuffleSplit(n_splits=1, test_size=0.2, random_state=seed)\n",
    "train_idx, val_idx = next(splitter_tv.split(track_ids))\n",
    "train_track_ids = [track_ids[idx] for idx in train_idx]\n",
    "val_track_ids = [track_ids[idx] for idx in val_idx]"
   ]
  },
  {
   "cell_type": "code",
   "execution_count": 19,
   "metadata": {},
   "outputs": [],
   "source": [
    "import json\n",
    "\n",
    "with open('val_track_ids.json', 'w') as fp:\n",
    "    json.dump(val_track_ids, fp)\n"
   ]
  },
  {
   "cell_type": "code",
   "execution_count": 7,
   "metadata": {},
   "outputs": [],
   "source": [
    "gen_train = data_generator(working, train_track_ids, sampler, epoch_size,\n",
    "                           augment=False,\n",
    "                           rate=poisson_rate,\n",
    "                           mode='with_replacement',\n",
    "                           random_state=seed)\n",
    "\n",
    "gen_train = keras_tuples(buffer_stream(gen_train(), batch_size, axis=0),\n",
    "                         inputs=inputs,         \n",
    "                         outputs=outputs)"
   ]
  },
  {
   "cell_type": "code",
   "execution_count": 8,
   "metadata": {},
   "outputs": [],
   "source": [
    "gen_val = val_generator(working, val_track_ids, augment=False)\n",
    "validation_size = gen_val.n_streams\n",
    "\n",
    "gen_val = keras_tuples(gen_val(), inputs=inputs, outputs=outputs)"
   ]
  },
  {
   "cell_type": "code",
   "execution_count": 9,
   "metadata": {},
   "outputs": [
    {
     "name": "stderr",
     "output_type": "stream",
     "text": [
      "W0915 21:12:47.556123 4607870400 deprecation_wrapper.py:119] From /Users/tom/.pyenv/versions/miniconda3-latest/envs/keys/lib/python3.7/site-packages/keras/optimizers.py:793: The name tf.train.Optimizer is deprecated. Please use tf.compat.v1.train.Optimizer instead.\n",
      "\n",
      "W0915 21:12:47.670876 4607870400 deprecation.py:323] From /Users/tom/.pyenv/versions/miniconda3-latest/envs/keys/lib/python3.7/site-packages/tensorflow/python/ops/nn_impl.py:180: add_dispatch_support.<locals>.wrapper (from tensorflow.python.ops.array_ops) is deprecated and will be removed in a future version.\n",
      "Instructions for updating:\n",
      "Use tf.where in 2.0, which has the same broadcast rule as np.where\n"
     ]
    }
   ],
   "source": [
    "loss = {'key_tag': 'sparse_categorical_crossentropy'}\n",
    "metrics = {'key_tag': 'sparse_categorical_accuracy'}\n",
    "\n",
    "loss.update(key_profile='binary_crossentropy',\n",
    "            key_tonic='sparse_categorical_crossentropy')\n",
    "\n",
    "monitor = 'val_key_tag_sparse_categorical_accuracy'\n",
    "\n",
    "#sgd = K.optimizers.SGD(lr=0.01, decay=1e-6, momentum=0.9, nesterov=True)\n",
    "adam = keras.optimizers.Adam()\n",
    "model.compile(adam, loss=loss, metrics=metrics)\n",
    "\n",
    "# Store the model\n",
    "model_spec = keras.utils.serialize_keras_object(model)\n",
    "with open(os.path.join(OUTPUT_PATH, 'model_spec.pkl'), 'wb') as fd:\n",
    "    pickle.dump(model_spec, fd)\n",
    "\n",
    "# Construct the weight path\n",
    "weight_path = os.path.join(OUTPUT_PATH, 'model.h5')\n",
    "\n",
    "# Build the callbacks\n",
    "cb = []\n",
    "cb.append(keras.callbacks.ModelCheckpoint(weight_path,\n",
    "                                          save_best_only=True,\n",
    "                                          verbose=1,\n",
    "                                          monitor=monitor))\n",
    "\n",
    "cb.append(keras.callbacks.ReduceLROnPlateau(patience=reduce_lr,\n",
    "                                            verbose=1,\n",
    "                                            monitor=monitor))\n",
    "\n",
    "cb.append(keras.callbacks.EarlyStopping(patience=early_stopping,\n",
    "                                        verbose=1,\n",
    "                                        monitor=monitor))\n",
    "\n",
    "cb.append(keras.callbacks.TensorBoard(log_dir='./logs/run1', batch_size=batch_size, update_freq='batch'))"
   ]
  },
  {
   "cell_type": "code",
   "execution_count": 15,
   "metadata": {
    "collapsed": true,
    "jupyter": {
     "outputs_hidden": true
    }
   },
   "outputs": [
    {
     "name": "stdout",
     "output_type": "stream",
     "text": [
      "WARNING:tensorflow:From /Users/tom/miniconda3/envs/tonal_center/lib/python3.7/site-packages/tensorflow/python/ops/math_ops.py:3066: to_int32 (from tensorflow.python.ops.math_ops) is deprecated and will be removed in a future version.\n",
      "Instructions for updating:\n",
      "Use tf.cast instead.\n",
      "Epoch 1/512\n",
      "64/64 [==============================] - 34s 524ms/step - loss: 4.4342 - key_tag_loss: 2.2892 - key_tonic_loss: 1.6088 - key_profile_loss: 0.5356 - key_tag_sparse_categorical_accuracy: 0.4296 - val_loss: 4.7725 - val_key_tag_loss: 2.5687 - val_key_tonic_loss: 1.7518 - val_key_profile_loss: 0.4507 - val_key_tag_sparse_categorical_accuracy: 0.4023\n",
      "\n",
      "Epoch 00001: val_key_tag_sparse_categorical_accuracy improved from -inf to 0.40233, saving model to resources/model.h5\n",
      "Epoch 2/512\n",
      "64/64 [==============================] - 31s 485ms/step - loss: 3.3007 - key_tag_loss: 1.6073 - key_tonic_loss: 1.2583 - key_profile_loss: 0.4335 - key_tag_sparse_categorical_accuracy: 0.5451 - val_loss: 3.5526 - val_key_tag_loss: 1.8089 - val_key_tonic_loss: 1.3632 - val_key_profile_loss: 0.3785 - val_key_tag_sparse_categorical_accuracy: 0.5026\n",
      "\n",
      "Epoch 00002: val_key_tag_sparse_categorical_accuracy improved from 0.40233 to 0.50257, saving model to resources/model.h5\n",
      "Epoch 3/512\n",
      "64/64 [==============================] - 34s 530ms/step - loss: 2.6989 - key_tag_loss: 1.2848 - key_tonic_loss: 1.0241 - key_profile_loss: 0.3880 - key_tag_sparse_categorical_accuracy: 0.6284 - val_loss: 3.1163 - val_key_tag_loss: 1.5455 - val_key_tonic_loss: 1.2437 - val_key_profile_loss: 0.3253 - val_key_tag_sparse_categorical_accuracy: 0.5244\n",
      "\n",
      "Epoch 00003: val_key_tag_sparse_categorical_accuracy improved from 0.50257 to 0.52436, saving model to resources/model.h5\n",
      "Epoch 4/512\n",
      "64/64 [==============================] - 29s 451ms/step - loss: 2.3179 - key_tag_loss: 1.1017 - key_tonic_loss: 0.8491 - key_profile_loss: 0.3655 - key_tag_sparse_categorical_accuracy: 0.6765 - val_loss: 3.1613 - val_key_tag_loss: 1.5661 - val_key_tonic_loss: 1.2812 - val_key_profile_loss: 0.3128 - val_key_tag_sparse_categorical_accuracy: 0.5478\n",
      "\n",
      "Epoch 00004: val_key_tag_sparse_categorical_accuracy improved from 0.52436 to 0.54776, saving model to resources/model.h5\n",
      "Epoch 5/512\n",
      "64/64 [==============================] - 34s 528ms/step - loss: 2.2667 - key_tag_loss: 1.0522 - key_tonic_loss: 0.8654 - key_profile_loss: 0.3479 - key_tag_sparse_categorical_accuracy: 0.6735 - val_loss: 3.0890 - val_key_tag_loss: 1.5841 - val_key_tonic_loss: 1.2195 - val_key_profile_loss: 0.2845 - val_key_tag_sparse_categorical_accuracy: 0.6327\n",
      "\n",
      "Epoch 00005: val_key_tag_sparse_categorical_accuracy improved from 0.54776 to 0.63265, saving model to resources/model.h5\n",
      "Epoch 6/512\n",
      "64/64 [==============================] - 32s 492ms/step - loss: 1.9373 - key_tag_loss: 0.9085 - key_tonic_loss: 0.7357 - key_profile_loss: 0.2923 - key_tag_sparse_categorical_accuracy: 0.7192 - val_loss: 3.0490 - val_key_tag_loss: 1.5731 - val_key_tonic_loss: 1.1729 - val_key_profile_loss: 0.3024 - val_key_tag_sparse_categorical_accuracy: 0.5856\n",
      "\n",
      "Epoch 00006: val_key_tag_sparse_categorical_accuracy did not improve from 0.63265\n",
      "Epoch 7/512\n",
      "64/64 [==============================] - 31s 492ms/step - loss: 1.5865 - key_tag_loss: 0.7145 - key_tonic_loss: 0.6095 - key_profile_loss: 0.2620 - key_tag_sparse_categorical_accuracy: 0.7844 - val_loss: 2.7805 - val_key_tag_loss: 1.3409 - val_key_tonic_loss: 1.1789 - val_key_profile_loss: 0.2602 - val_key_tag_sparse_categorical_accuracy: 0.6208\n",
      "\n",
      "Epoch 00007: val_key_tag_sparse_categorical_accuracy did not improve from 0.63265\n",
      "Epoch 8/512\n",
      "64/64 [==============================] - 29s 461ms/step - loss: 1.3302 - key_tag_loss: 0.5999 - key_tonic_loss: 0.5045 - key_profile_loss: 0.2254 - key_tag_sparse_categorical_accuracy: 0.8139 - val_loss: 2.7398 - val_key_tag_loss: 1.3316 - val_key_tonic_loss: 1.1290 - val_key_profile_loss: 0.2788 - val_key_tag_sparse_categorical_accuracy: 0.6450\n",
      "\n",
      "Epoch 00008: val_key_tag_sparse_categorical_accuracy improved from 0.63265 to 0.64497, saving model to resources/model.h5\n",
      "Epoch 9/512\n",
      "64/64 [==============================] - 28s 442ms/step - loss: 1.2989 - key_tag_loss: 0.5846 - key_tonic_loss: 0.4771 - key_profile_loss: 0.2369 - key_tag_sparse_categorical_accuracy: 0.8068 - val_loss: 3.0416 - val_key_tag_loss: 1.5934 - val_key_tonic_loss: 1.2005 - val_key_profile_loss: 0.2474 - val_key_tag_sparse_categorical_accuracy: 0.5945\n",
      "\n",
      "Epoch 00009: val_key_tag_sparse_categorical_accuracy did not improve from 0.64497\n",
      "Epoch 10/512\n",
      "64/64 [==============================] - 25s 392ms/step - loss: 1.1041 - key_tag_loss: 0.4884 - key_tonic_loss: 0.4044 - key_profile_loss: 0.2110 - key_tag_sparse_categorical_accuracy: 0.8464 - val_loss: 2.8887 - val_key_tag_loss: 1.4885 - val_key_tonic_loss: 1.1596 - val_key_profile_loss: 0.2403 - val_key_tag_sparse_categorical_accuracy: 0.6035\n",
      "\n",
      "Epoch 00010: val_key_tag_sparse_categorical_accuracy did not improve from 0.64497\n",
      "Epoch 11/512\n",
      "64/64 [==============================] - 25s 389ms/step - loss: 1.1769 - key_tag_loss: 0.5075 - key_tonic_loss: 0.4423 - key_profile_loss: 0.2268 - key_tag_sparse_categorical_accuracy: 0.8545 - val_loss: 2.5316 - val_key_tag_loss: 1.3576 - val_key_tonic_loss: 0.9418 - val_key_profile_loss: 0.2319 - val_key_tag_sparse_categorical_accuracy: 0.6632\n",
      "\n",
      "Epoch 00011: val_key_tag_sparse_categorical_accuracy improved from 0.64497 to 0.66323, saving model to resources/model.h5\n",
      "Epoch 12/512\n",
      "64/64 [==============================] - 28s 436ms/step - loss: 0.8611 - key_tag_loss: 0.3788 - key_tonic_loss: 0.2925 - key_profile_loss: 0.1895 - key_tag_sparse_categorical_accuracy: 0.8804 - val_loss: 3.0164 - val_key_tag_loss: 1.6296 - val_key_tonic_loss: 1.1289 - val_key_profile_loss: 0.2575 - val_key_tag_sparse_categorical_accuracy: 0.6172\n",
      "\n",
      "Epoch 00012: val_key_tag_sparse_categorical_accuracy did not improve from 0.66323\n",
      "Epoch 13/512\n",
      "64/64 [==============================] - 26s 409ms/step - loss: 0.8813 - key_tag_loss: 0.3762 - key_tonic_loss: 0.3161 - key_profile_loss: 0.1888 - key_tag_sparse_categorical_accuracy: 0.8829 - val_loss: 2.5140 - val_key_tag_loss: 1.2958 - val_key_tonic_loss: 0.9849 - val_key_profile_loss: 0.2330 - val_key_tag_sparse_categorical_accuracy: 0.6594\n",
      "\n",
      "Epoch 00013: val_key_tag_sparse_categorical_accuracy did not improve from 0.66323\n",
      "Epoch 14/512\n",
      "64/64 [==============================] - 30s 473ms/step - loss: 0.6171 - key_tag_loss: 0.2717 - key_tonic_loss: 0.2119 - key_profile_loss: 0.1332 - key_tag_sparse_categorical_accuracy: 0.9168 - val_loss: 2.7319 - val_key_tag_loss: 1.4572 - val_key_tonic_loss: 1.0369 - val_key_profile_loss: 0.2376 - val_key_tag_sparse_categorical_accuracy: 0.6841\n",
      "\n",
      "Epoch 00014: val_key_tag_sparse_categorical_accuracy improved from 0.66323 to 0.68409, saving model to resources/model.h5\n",
      "Epoch 15/512\n",
      "64/64 [==============================] - 27s 419ms/step - loss: 0.5959 - key_tag_loss: 0.2668 - key_tonic_loss: 0.1928 - key_profile_loss: 0.1360 - key_tag_sparse_categorical_accuracy: 0.9159 - val_loss: 2.5217 - val_key_tag_loss: 1.2640 - val_key_tonic_loss: 1.0163 - val_key_profile_loss: 0.2412 - val_key_tag_sparse_categorical_accuracy: 0.7111\n",
      "\n",
      "Epoch 00015: val_key_tag_sparse_categorical_accuracy improved from 0.68409 to 0.71108, saving model to resources/model.h5\n",
      "Epoch 16/512\n",
      "64/64 [==============================] - 28s 431ms/step - loss: 0.6184 - key_tag_loss: 0.2749 - key_tonic_loss: 0.1970 - key_profile_loss: 0.1463 - key_tag_sparse_categorical_accuracy: 0.9130 - val_loss: 3.5214 - val_key_tag_loss: 1.8345 - val_key_tonic_loss: 1.3784 - val_key_profile_loss: 0.3083 - val_key_tag_sparse_categorical_accuracy: 0.6364\n",
      "\n",
      "Epoch 00016: val_key_tag_sparse_categorical_accuracy did not improve from 0.71108\n",
      "Epoch 17/512\n",
      "64/64 [==============================] - 26s 405ms/step - loss: 0.5865 - key_tag_loss: 0.2690 - key_tonic_loss: 0.1775 - key_profile_loss: 0.1397 - key_tag_sparse_categorical_accuracy: 0.9113 - val_loss: 2.9941 - val_key_tag_loss: 1.4985 - val_key_tonic_loss: 1.2213 - val_key_profile_loss: 0.2741 - val_key_tag_sparse_categorical_accuracy: 0.6374\n",
      "\n",
      "Epoch 00017: val_key_tag_sparse_categorical_accuracy did not improve from 0.71108\n",
      "Epoch 18/512\n",
      "64/64 [==============================] - 25s 394ms/step - loss: 0.4659 - key_tag_loss: 0.1922 - key_tonic_loss: 0.1511 - key_profile_loss: 0.1224 - key_tag_sparse_categorical_accuracy: 0.9415 - val_loss: 2.9629 - val_key_tag_loss: 1.5255 - val_key_tonic_loss: 1.1779 - val_key_profile_loss: 0.2593 - val_key_tag_sparse_categorical_accuracy: 0.6568\n",
      "\n",
      "Epoch 00018: val_key_tag_sparse_categorical_accuracy did not improve from 0.71108\n",
      "Epoch 19/512\n",
      "64/64 [==============================] - 26s 411ms/step - loss: 0.5798 - key_tag_loss: 0.2676 - key_tonic_loss: 0.1999 - key_profile_loss: 0.1121 - key_tag_sparse_categorical_accuracy: 0.9087 - val_loss: 2.3562 - val_key_tag_loss: 1.1521 - val_key_tonic_loss: 0.9663 - val_key_profile_loss: 0.2376 - val_key_tag_sparse_categorical_accuracy: 0.7036\n",
      "\n",
      "Epoch 00019: val_key_tag_sparse_categorical_accuracy did not improve from 0.71108\n",
      "Epoch 20/512\n",
      "64/64 [==============================] - 29s 453ms/step - loss: 0.5118 - key_tag_loss: 0.2203 - key_tonic_loss: 0.1815 - key_profile_loss: 0.1097 - key_tag_sparse_categorical_accuracy: 0.9332 - val_loss: 3.0868 - val_key_tag_loss: 1.5814 - val_key_tonic_loss: 1.2526 - val_key_profile_loss: 0.2525 - val_key_tag_sparse_categorical_accuracy: 0.6738\n",
      "\n",
      "Epoch 00020: val_key_tag_sparse_categorical_accuracy did not improve from 0.71108\n",
      "Epoch 21/512\n",
      "64/64 [==============================] - 30s 463ms/step - loss: 0.3395 - key_tag_loss: 0.1413 - key_tonic_loss: 0.1042 - key_profile_loss: 0.0938 - key_tag_sparse_categorical_accuracy: 0.9551 - val_loss: 2.7928 - val_key_tag_loss: 1.4630 - val_key_tonic_loss: 1.0706 - val_key_profile_loss: 0.2591 - val_key_tag_sparse_categorical_accuracy: 0.6973\n",
      "\n",
      "Epoch 00021: val_key_tag_sparse_categorical_accuracy did not improve from 0.71108\n",
      "Epoch 22/512\n",
      "64/64 [==============================] - 28s 434ms/step - loss: 0.3624 - key_tag_loss: 0.1540 - key_tonic_loss: 0.1154 - key_profile_loss: 0.0928 - key_tag_sparse_categorical_accuracy: 0.9516 - val_loss: 3.1105 - val_key_tag_loss: 1.5792 - val_key_tonic_loss: 1.2631 - val_key_profile_loss: 0.2680 - val_key_tag_sparse_categorical_accuracy: 0.6761\n",
      "\n",
      "Epoch 00022: val_key_tag_sparse_categorical_accuracy did not improve from 0.71108\n",
      "Epoch 23/512\n",
      "64/64 [==============================] - 28s 432ms/step - loss: 0.2801 - key_tag_loss: 0.1173 - key_tonic_loss: 0.0846 - key_profile_loss: 0.0780 - key_tag_sparse_categorical_accuracy: 0.9645 - val_loss: 2.7590 - val_key_tag_loss: 1.4375 - val_key_tonic_loss: 1.0592 - val_key_profile_loss: 0.2622 - val_key_tag_sparse_categorical_accuracy: 0.7050\n",
      "\n",
      "Epoch 00023: val_key_tag_sparse_categorical_accuracy did not improve from 0.71108\n",
      "\n",
      "Epoch 00023: ReduceLROnPlateau reducing learning rate to 0.00010000000474974513.\n",
      "Epoch 24/512\n",
      "64/64 [==============================] - 28s 437ms/step - loss: 0.3220 - key_tag_loss: 0.1346 - key_tonic_loss: 0.0971 - key_profile_loss: 0.0901 - key_tag_sparse_categorical_accuracy: 0.9591 - val_loss: 2.6834 - val_key_tag_loss: 1.3837 - val_key_tonic_loss: 1.0522 - val_key_profile_loss: 0.2473 - val_key_tag_sparse_categorical_accuracy: 0.7019\n",
      "\n",
      "Epoch 00024: val_key_tag_sparse_categorical_accuracy did not improve from 0.71108\n",
      "Epoch 25/512\n",
      "64/64 [==============================] - 29s 458ms/step - loss: 0.2193 - key_tag_loss: 0.0947 - key_tonic_loss: 0.0624 - key_profile_loss: 0.0621 - key_tag_sparse_categorical_accuracy: 0.9701 - val_loss: 2.7802 - val_key_tag_loss: 1.4324 - val_key_tonic_loss: 1.0965 - val_key_profile_loss: 0.2512 - val_key_tag_sparse_categorical_accuracy: 0.6949\n",
      "\n",
      "Epoch 00025: val_key_tag_sparse_categorical_accuracy did not improve from 0.71108\n",
      "Epoch 26/512\n",
      "64/64 [==============================] - 27s 428ms/step - loss: 0.2716 - key_tag_loss: 0.1142 - key_tonic_loss: 0.0814 - key_profile_loss: 0.0759 - key_tag_sparse_categorical_accuracy: 0.9673 - val_loss: 2.6645 - val_key_tag_loss: 1.3897 - val_key_tonic_loss: 1.0268 - val_key_profile_loss: 0.2478 - val_key_tag_sparse_categorical_accuracy: 0.7063\n",
      "\n",
      "Epoch 00026: val_key_tag_sparse_categorical_accuracy did not improve from 0.71108\n",
      "Epoch 27/512\n",
      "64/64 [==============================] - 28s 439ms/step - loss: 0.2042 - key_tag_loss: 0.0902 - key_tonic_loss: 0.0529 - key_profile_loss: 0.0609 - key_tag_sparse_categorical_accuracy: 0.9755 - val_loss: 2.5555 - val_key_tag_loss: 1.3244 - val_key_tonic_loss: 0.9944 - val_key_profile_loss: 0.2366 - val_key_tag_sparse_categorical_accuracy: 0.7098\n",
      "\n",
      "Epoch 00027: val_key_tag_sparse_categorical_accuracy did not improve from 0.71108\n",
      "Epoch 28/512\n",
      "64/64 [==============================] - 29s 458ms/step - loss: 0.1685 - key_tag_loss: 0.0661 - key_tonic_loss: 0.0390 - key_profile_loss: 0.0632 - key_tag_sparse_categorical_accuracy: 0.9832 - val_loss: 2.6222 - val_key_tag_loss: 1.3705 - val_key_tonic_loss: 1.0085 - val_key_profile_loss: 0.2431 - val_key_tag_sparse_categorical_accuracy: 0.7095\n",
      "\n",
      "Epoch 00028: val_key_tag_sparse_categorical_accuracy did not improve from 0.71108\n",
      "Epoch 29/512\n",
      "64/64 [==============================] - 28s 430ms/step - loss: 0.1546 - key_tag_loss: 0.0584 - key_tonic_loss: 0.0383 - key_profile_loss: 0.0578 - key_tag_sparse_categorical_accuracy: 0.9843 - val_loss: 2.6194 - val_key_tag_loss: 1.3621 - val_key_tonic_loss: 1.0175 - val_key_profile_loss: 0.2396 - val_key_tag_sparse_categorical_accuracy: 0.7062\n",
      "\n",
      "Epoch 00029: val_key_tag_sparse_categorical_accuracy did not improve from 0.71108\n",
      "Epoch 30/512\n",
      "64/64 [==============================] - 28s 433ms/step - loss: 0.1717 - key_tag_loss: 0.0669 - key_tonic_loss: 0.0441 - key_profile_loss: 0.0605 - key_tag_sparse_categorical_accuracy: 0.9835 - val_loss: 2.7277 - val_key_tag_loss: 1.4142 - val_key_tonic_loss: 1.0627 - val_key_profile_loss: 0.2506 - val_key_tag_sparse_categorical_accuracy: 0.7110\n",
      "\n",
      "Epoch 00030: val_key_tag_sparse_categorical_accuracy did not improve from 0.71108\n",
      "Epoch 31/512\n",
      "64/64 [==============================] - 28s 439ms/step - loss: 0.1413 - key_tag_loss: 0.0583 - key_tonic_loss: 0.0332 - key_profile_loss: 0.0497 - key_tag_sparse_categorical_accuracy: 0.9853 - val_loss: 2.7360 - val_key_tag_loss: 1.4146 - val_key_tonic_loss: 1.0701 - val_key_profile_loss: 0.2511 - val_key_tag_sparse_categorical_accuracy: 0.7007\n",
      "\n",
      "Epoch 00031: val_key_tag_sparse_categorical_accuracy did not improve from 0.71108\n",
      "\n",
      "Epoch 00031: ReduceLROnPlateau reducing learning rate to 1.0000000474974514e-05.\n",
      "Epoch 32/512\n",
      "64/64 [==============================] - 29s 448ms/step - loss: 0.1443 - key_tag_loss: 0.0568 - key_tonic_loss: 0.0353 - key_profile_loss: 0.0521 - key_tag_sparse_categorical_accuracy: 0.9850 - val_loss: 2.7557 - val_key_tag_loss: 1.4297 - val_key_tonic_loss: 1.0750 - val_key_profile_loss: 0.2509 - val_key_tag_sparse_categorical_accuracy: 0.7013\n",
      "\n",
      "Epoch 00032: val_key_tag_sparse_categorical_accuracy did not improve from 0.71108\n",
      "Epoch 33/512\n",
      "64/64 [==============================] - 26s 407ms/step - loss: 0.1140 - key_tag_loss: 0.0403 - key_tonic_loss: 0.0276 - key_profile_loss: 0.0460 - key_tag_sparse_categorical_accuracy: 0.9910 - val_loss: 2.7572 - val_key_tag_loss: 1.4281 - val_key_tonic_loss: 1.0740 - val_key_profile_loss: 0.2550 - val_key_tag_sparse_categorical_accuracy: 0.7013\n",
      "\n",
      "Epoch 00033: val_key_tag_sparse_categorical_accuracy did not improve from 0.71108\n",
      "Epoch 34/512\n",
      "64/64 [==============================] - 29s 448ms/step - loss: 0.1474 - key_tag_loss: 0.0580 - key_tonic_loss: 0.0407 - key_profile_loss: 0.0486 - key_tag_sparse_categorical_accuracy: 0.9817 - val_loss: 2.7739 - val_key_tag_loss: 1.4434 - val_key_tonic_loss: 1.0783 - val_key_profile_loss: 0.2521 - val_key_tag_sparse_categorical_accuracy: 0.6983\n",
      "\n",
      "Epoch 00034: val_key_tag_sparse_categorical_accuracy did not improve from 0.71108\n",
      "Epoch 35/512\n",
      "64/64 [==============================] - 26s 407ms/step - loss: 0.1386 - key_tag_loss: 0.0540 - key_tonic_loss: 0.0324 - key_profile_loss: 0.0520 - key_tag_sparse_categorical_accuracy: 0.9874 - val_loss: 2.7627 - val_key_tag_loss: 1.4343 - val_key_tonic_loss: 1.0809 - val_key_profile_loss: 0.2474 - val_key_tag_sparse_categorical_accuracy: 0.6981\n",
      "\n",
      "Epoch 00035: val_key_tag_sparse_categorical_accuracy did not improve from 0.71108\n",
      "Epoch 36/512\n",
      "64/64 [==============================] - 26s 411ms/step - loss: 0.1351 - key_tag_loss: 0.0452 - key_tonic_loss: 0.0390 - key_profile_loss: 0.0508 - key_tag_sparse_categorical_accuracy: 0.9898 - val_loss: 2.7326 - val_key_tag_loss: 1.4138 - val_key_tonic_loss: 1.0704 - val_key_profile_loss: 0.2482 - val_key_tag_sparse_categorical_accuracy: 0.7051\n",
      "\n",
      "Epoch 00036: val_key_tag_sparse_categorical_accuracy did not improve from 0.71108\n",
      "Epoch 37/512\n",
      "64/64 [==============================] - 26s 403ms/step - loss: 0.1479 - key_tag_loss: 0.0582 - key_tonic_loss: 0.0375 - key_profile_loss: 0.0520 - key_tag_sparse_categorical_accuracy: 0.9826 - val_loss: 2.7665 - val_key_tag_loss: 1.4400 - val_key_tonic_loss: 1.0739 - val_key_profile_loss: 0.2524 - val_key_tag_sparse_categorical_accuracy: 0.7054\n",
      "\n",
      "Epoch 00037: val_key_tag_sparse_categorical_accuracy did not improve from 0.71108\n",
      "Epoch 38/512\n",
      "64/64 [==============================] - 27s 422ms/step - loss: 0.1500 - key_tag_loss: 0.0644 - key_tonic_loss: 0.0346 - key_profile_loss: 0.0508 - key_tag_sparse_categorical_accuracy: 0.9842 - val_loss: 2.7828 - val_key_tag_loss: 1.4496 - val_key_tonic_loss: 1.0787 - val_key_profile_loss: 0.2544 - val_key_tag_sparse_categorical_accuracy: 0.7068\n",
      "\n",
      "Epoch 00038: val_key_tag_sparse_categorical_accuracy did not improve from 0.71108\n",
      "Epoch 39/512\n",
      "64/64 [==============================] - 26s 402ms/step - loss: 0.1655 - key_tag_loss: 0.0691 - key_tonic_loss: 0.0443 - key_profile_loss: 0.0519 - key_tag_sparse_categorical_accuracy: 0.9815 - val_loss: 2.7761 - val_key_tag_loss: 1.4435 - val_key_tonic_loss: 1.0792 - val_key_profile_loss: 0.2533 - val_key_tag_sparse_categorical_accuracy: 0.7081\n",
      "\n",
      "Epoch 00039: val_key_tag_sparse_categorical_accuracy did not improve from 0.71108\n",
      "\n",
      "Epoch 00039: ReduceLROnPlateau reducing learning rate to 1.0000000656873453e-06.\n",
      "Epoch 40/512\n",
      "64/64 [==============================] - 26s 401ms/step - loss: 0.1121 - key_tag_loss: 0.0388 - key_tonic_loss: 0.0267 - key_profile_loss: 0.0465 - key_tag_sparse_categorical_accuracy: 0.9920 - val_loss: 2.7635 - val_key_tag_loss: 1.4292 - val_key_tonic_loss: 1.0821 - val_key_profile_loss: 0.2521 - val_key_tag_sparse_categorical_accuracy: 0.7084\n",
      "\n",
      "Epoch 00040: val_key_tag_sparse_categorical_accuracy did not improve from 0.71108\n",
      "Epoch 41/512\n",
      "64/64 [==============================] - 38s 595ms/step - loss: 0.1420 - key_tag_loss: 0.0568 - key_tonic_loss: 0.0338 - key_profile_loss: 0.0513 - key_tag_sparse_categorical_accuracy: 0.9852 - val_loss: 2.7378 - val_key_tag_loss: 1.4301 - val_key_tonic_loss: 1.0574 - val_key_profile_loss: 0.2503 - val_key_tag_sparse_categorical_accuracy: 0.7059\n",
      "\n",
      "Epoch 00041: val_key_tag_sparse_categorical_accuracy did not improve from 0.71108\n",
      "Epoch 42/512\n",
      "64/64 [==============================] - 39s 605ms/step - loss: 0.1613 - key_tag_loss: 0.0622 - key_tonic_loss: 0.0410 - key_profile_loss: 0.0580 - key_tag_sparse_categorical_accuracy: 0.9838 - val_loss: 2.7147 - val_key_tag_loss: 1.4186 - val_key_tonic_loss: 1.0491 - val_key_profile_loss: 0.2468 - val_key_tag_sparse_categorical_accuracy: 0.7097\n",
      "\n",
      "Epoch 00042: val_key_tag_sparse_categorical_accuracy did not improve from 0.71108\n",
      "Epoch 43/512\n",
      "64/64 [==============================] - 29s 452ms/step - loss: 0.1928 - key_tag_loss: 0.0828 - key_tonic_loss: 0.0504 - key_profile_loss: 0.0594 - key_tag_sparse_categorical_accuracy: 0.9759 - val_loss: 2.7378 - val_key_tag_loss: 1.4317 - val_key_tonic_loss: 1.0586 - val_key_profile_loss: 0.2473 - val_key_tag_sparse_categorical_accuracy: 0.7076\n",
      "\n",
      "Epoch 00043: val_key_tag_sparse_categorical_accuracy did not improve from 0.71108\n",
      "Epoch 44/512\n",
      "64/64 [==============================] - 28s 442ms/step - loss: 0.1540 - key_tag_loss: 0.0612 - key_tonic_loss: 0.0378 - key_profile_loss: 0.0549 - key_tag_sparse_categorical_accuracy: 0.9856 - val_loss: 2.7616 - val_key_tag_loss: 1.4516 - val_key_tonic_loss: 1.0613 - val_key_profile_loss: 0.2486 - val_key_tag_sparse_categorical_accuracy: 0.7025\n",
      "\n",
      "Epoch 00044: val_key_tag_sparse_categorical_accuracy did not improve from 0.71108\n",
      "Epoch 45/512\n",
      "64/64 [==============================] - 30s 471ms/step - loss: 0.1257 - key_tag_loss: 0.0455 - key_tonic_loss: 0.0303 - key_profile_loss: 0.0498 - key_tag_sparse_categorical_accuracy: 0.9893 - val_loss: 2.7990 - val_key_tag_loss: 1.4698 - val_key_tonic_loss: 1.0751 - val_key_profile_loss: 0.2539 - val_key_tag_sparse_categorical_accuracy: 0.7031\n",
      "\n",
      "Epoch 00045: val_key_tag_sparse_categorical_accuracy did not improve from 0.71108\n",
      "Epoch 46/512\n",
      "64/64 [==============================] - 29s 455ms/step - loss: 0.1237 - key_tag_loss: 0.0428 - key_tonic_loss: 0.0305 - key_profile_loss: 0.0502 - key_tag_sparse_categorical_accuracy: 0.9903 - val_loss: 2.7732 - val_key_tag_loss: 1.4576 - val_key_tonic_loss: 1.0636 - val_key_profile_loss: 0.2519 - val_key_tag_sparse_categorical_accuracy: 0.7047\n",
      "\n",
      "Epoch 00046: val_key_tag_sparse_categorical_accuracy did not improve from 0.71108\n",
      "Epoch 47/512\n",
      "64/64 [==============================] - 31s 477ms/step - loss: 0.2062 - key_tag_loss: 0.0926 - key_tonic_loss: 0.0505 - key_profile_loss: 0.0630 - key_tag_sparse_categorical_accuracy: 0.9724 - val_loss: 2.8354 - val_key_tag_loss: 1.4987 - val_key_tonic_loss: 1.0761 - val_key_profile_loss: 0.2604 - val_key_tag_sparse_categorical_accuracy: 0.7005\n",
      "\n",
      "Epoch 00047: val_key_tag_sparse_categorical_accuracy did not improve from 0.71108\n",
      "\n",
      "Epoch 00047: ReduceLROnPlateau reducing learning rate to 1.0000001111620805e-07.\n",
      "Epoch 00047: early stopping\n"
     ]
    }
   ],
   "source": [
    "history = model.fit_generator(gen_train, epoch_size, epochs,\n",
    "                              validation_data=gen_val,\n",
    "                              validation_steps=validation_size,\n",
    "                              callbacks=cb)"
   ]
  },
  {
   "cell_type": "code",
   "execution_count": 87,
   "metadata": {},
   "outputs": [],
   "source": [
    "from sklearn.metrics import confusion_matrix, classification_report\n",
    "import numpy as np\n",
    "import matplotlib.pyplot as plt"
   ]
  },
  {
   "cell_type": "code",
   "execution_count": 159,
   "metadata": {},
   "outputs": [],
   "source": [
    "def shear_mat(mat):\n",
    "    new_mat = np.empty(mat.shape)\n",
    "    for i, row in enumerate(mat):\n",
    "        new_mat[i] = np.roll(mat[i], -i)\n",
    "    return new_mat"
   ]
  },
  {
   "cell_type": "code",
   "execution_count": 102,
   "metadata": {},
   "outputs": [],
   "source": [
    "tag_true = []\n",
    "tag_pred = []\n",
    "for step in range(validation_size):\n",
    "    x, y_true = next(gen_val)\n",
    "    tag_true.extend(y_true[0].squeeze())\n",
    "    \n",
    "    tag_pred_dense, tonic_pred_dense, profile_pred = model.predict(x)\n",
    "    tag_pred.extend(np.argmax(tag_pred_dense, axis=2).squeeze())\n"
   ]
  },
  {
   "cell_type": "code",
   "execution_count": 164,
   "metadata": {},
   "outputs": [
    {
     "data": {
      "text/plain": [
       "<matplotlib.image.AxesImage at 0x1c3d9f4470>"
      ]
     },
     "execution_count": 164,
     "metadata": {},
     "output_type": "execute_result"
    },
    {
     "data": {
      "image/png": "[encoded data removed]",
      "text/plain": [
       "<Figure size 432x288 with 1 Axes>"
      ]
     },
     "metadata": {
      "needs_background": "light"
     },
     "output_type": "display_data"
    }
   ],
   "source": [
    "confusion_mat = confusion_matrix(tag_true, tag_pred, labels=list(range(109)))\n",
    "plt.imshow(confusion_mat)"
   ]
  },
  {
   "cell_type": "code",
   "execution_count": 165,
   "metadata": {},
   "outputs": [
    {
     "data": {
      "text/plain": [
       "<StemContainer object of 3 artists>"
      ]
     },
     "execution_count": 165,
     "metadata": {},
     "output_type": "execute_result"
    },
    {
     "data": {
      "image/png": "[encoded data removed]",
      "text/plain": [
       "<Figure size 432x288 with 1 Axes>"
      ]
     },
     "metadata": {
      "needs_background": "light"
     },
     "output_type": "display_data"
    }
   ],
   "source": [
    "plt.stem(shear_mat(confusion_mat[:-1, :-1]).sum(axis=0)[1:], use_line_collection=True)"
   ]
  },
  {
   "cell_type": "code",
   "execution_count": 114,
   "metadata": {},
   "outputs": [
    {
     "name": "stdout",
     "output_type": "stream",
     "text": [
      "              precision    recall  f1-score   support\n",
      "\n",
      "           5       0.79      0.66      0.72      3241\n",
      "           6       0.69      0.62      0.65      1500\n",
      "          14       0.73      1.00      0.85      1922\n",
      "          23       0.00      0.00      0.00         0\n",
      "          24       0.87      0.97      0.91       315\n",
      "          32       0.84      0.74      0.79      4092\n",
      "          41       0.80      0.99      0.89      2557\n",
      "          50       0.25      1.00      0.39       541\n",
      "          51       0.72      0.18      0.29      1528\n",
      "          59       0.00      0.00      0.00         0\n",
      "          60       0.89      0.33      0.49       873\n",
      "          68       0.95      0.70      0.81      3883\n",
      "          77       0.94      0.26      0.40       630\n",
      "          78       0.00      0.00      0.00         0\n",
      "          87       0.89      0.84      0.87      2396\n",
      "          95       0.35      0.47      0.40       542\n",
      "          96       0.47      1.00      0.64       635\n",
      "         104       0.90      0.78      0.84       694\n",
      "         105       0.11      0.05      0.07       347\n",
      "\n",
      "    accuracy                           0.71     25696\n",
      "   macro avg       0.59      0.56      0.53     25696\n",
      "weighted avg       0.79      0.71      0.72     25696\n",
      "\n"
     ]
    }
   ],
   "source": [
    "print(classification_report(tag_true, tag_pred))"
   ]
  },
  {
   "cell_type": "code",
   "execution_count": 116,
   "metadata": {},
   "outputs": [],
   "source": [
    "tonic_true = []\n",
    "tonic_pred = []\n",
    "for step in range(validation_size):\n",
    "    x, y_true = next(gen_val)\n",
    "    tonic_true.extend(y_true[1].squeeze())\n",
    "    \n",
    "    tag_pred_dense, tonic_pred_dense, profile_pred = model.predict(x)\n",
    "    tonic_pred.extend(np.argmax(tonic_pred_dense, axis=2).squeeze())\n"
   ]
  },
  {
   "cell_type": "code",
   "execution_count": 166,
   "metadata": {},
   "outputs": [
    {
     "data": {
      "text/plain": [
       "<matplotlib.image.AxesImage at 0x1c3dbb3cc0>"
      ]
     },
     "execution_count": 166,
     "metadata": {},
     "output_type": "execute_result"
    },
    {
     "data": {
      "image/png": "[encoded data removed]",
      "text/plain": [
       "<Figure size 432x288 with 1 Axes>"
      ]
     },
     "metadata": {
      "needs_background": "light"
     },
     "output_type": "display_data"
    }
   ],
   "source": [
    "confusion_mat = confusion_matrix(tonic_true, tonic_pred, labels=list(range(13)))\n",
    "plt.imshow(shear_mat(confusion_mat[:-1, :-1]))"
   ]
  },
  {
   "cell_type": "code",
   "execution_count": 173,
   "metadata": {},
   "outputs": [
    {
     "data": {
      "text/plain": [
       "(0, 12)"
      ]
     },
     "execution_count": 173,
     "metadata": {},
     "output_type": "execute_result"
    },
    {
     "data": {
      "image/png": "[encoded data removed]",
      "text/plain": [
       "<Figure size 432x288 with 1 Axes>"
      ]
     },
     "metadata": {
      "needs_background": "light"
     },
     "output_type": "display_data"
    }
   ],
   "source": [
    "plt.stem(range(1,12), shear_mat(confusion_mat[:-1, :-1]).sum(axis=0)[1:], use_line_collection=True)\n",
    "plt.xlim(0, 12)"
   ]
  },
  {
   "cell_type": "code",
   "execution_count": 134,
   "metadata": {},
   "outputs": [],
   "source": [
    "arr = np.ones((1,))"
   ]
  },
  {
   "cell_type": "code",
   "execution_count": 135,
   "metadata": {},
   "outputs": [
    {
     "data": {
      "text/plain": [
       "array([[1., 1., 1., 1.]])"
      ]
     },
     "execution_count": 135,
     "metadata": {},
     "output_type": "execute_result"
    }
   ],
   "source": [
    "arr.sum()"
   ]
  },
  {
   "cell_type": "code",
   "execution_count": 118,
   "metadata": {},
   "outputs": [
    {
     "name": "stdout",
     "output_type": "stream",
     "text": [
      "              precision    recall  f1-score   support\n",
      "\n",
      "           0       0.81      0.98      0.89      2557\n",
      "           1       0.86      0.78      0.82      4092\n",
      "           2       0.48      0.41      0.44       873\n",
      "           3       0.47      0.57      0.52      2069\n",
      "           4       0.97      0.70      0.81      3883\n",
      "           5       0.88      0.81      0.84      2396\n",
      "           6       0.37      0.29      0.33       630\n",
      "           7       0.81      0.53      0.64      1041\n",
      "           8       0.52      0.93      0.67      1177\n",
      "           9       0.72      0.99      0.83      1922\n",
      "          10       0.73      0.64      0.69      4741\n",
      "          11       0.55      1.00      0.71       315\n",
      "\n",
      "    accuracy                           0.74     25696\n",
      "   macro avg       0.68      0.72      0.68     25696\n",
      "weighted avg       0.76      0.74      0.74     25696\n",
      "\n"
     ]
    }
   ],
   "source": [
    "print(classification_report(tonic_true, tonic_pred))"
   ]
  },
  {
   "cell_type": "code",
   "execution_count": 89,
   "metadata": {},
   "outputs": [
    {
     "data": {
      "text/plain": [
       "<matplotlib.image.AxesImage at 0x1c3bbdb908>"
      ]
     },
     "execution_count": 89,
     "metadata": {},
     "output_type": "execute_result"
    },
    {
     "data": {
      "image/png": "[encoded data removed]",
      "text/plain": [
       "<Figure size 432x288 with 1 Axes>"
      ]
     },
     "metadata": {
      "needs_background": "light"
     },
     "output_type": "display_data"
    }
   ],
   "source": [
    "plt.imshow(output)"
   ]
  },
  {
   "cell_type": "code",
   "execution_count": 132,
   "metadata": {},
   "outputs": [
    {
     "data": {
      "text/plain": [
       "array([[2496,    0,    0,   61,    0,    0,    0,    0,    0,    0,    0,\n",
       "           0,    0],\n",
       "       [  72,   10,    2,   59,    0,  137,    0,  445,    0,    0,    0,\n",
       "        3172,  195],\n",
       "       [   0,   35,    0,   83,   67,    0,    0,  326,    0,  362,    0,\n",
       "           0,    0],\n",
       "       [   0,   35,    0,    0,    0,  262,   36, 1181,    0,    0,  248,\n",
       "           4,  303],\n",
       "       [   0,    0,    0,   15,   11, 2715,    0,    2,   16,  268,  595,\n",
       "           0,  261],\n",
       "       [   0,  242,    0, 1930,    0,    0,    8,    0,  216,    0,    0,\n",
       "           0,    0],\n",
       "       [   0,  185,    0,  245,   65,    0,    0,    0,    0,    0,  135,\n",
       "           0,    0],\n",
       "       [   0,    0,  347,    0,    0,  143,    0,    0,    0,    0,    0,\n",
       "           0,  551],\n",
       "       [   0,    0,    0,    0,    0,    0,   77,    0,    0,    0, 1100,\n",
       "           0,    0],\n",
       "       [   0,   13,    0,    0,    0,    0,    0,    0, 1909,    0,    0,\n",
       "           0,    0],\n",
       "       [   0,  259,    0,   73,   51,    0, 3051,    0,    0,  106,  256,\n",
       "           0,  945],\n",
       "       [   0,    0,    0,    0,  315,    0,    0,    0,    0,    0,    0,\n",
       "           0,    0],\n",
       "       [   0,    0,    0,    0,    0,    0,    0,    0,    0,    0,    0,\n",
       "           0,    0]])"
      ]
     },
     "execution_count": 132,
     "metadata": {},
     "output_type": "execute_result"
    }
   ],
   "source": [
    "shear_mat(confusion_mat)"
   ]
  },
  {
   "cell_type": "code",
   "execution_count": 78,
   "metadata": {},
   "outputs": [
    {
     "data": {
      "text/plain": [
       "(369, 109)"
      ]
     },
     "execution_count": 78,
     "metadata": {},
     "output_type": "execute_result"
    }
   ],
   "source": [
    "tag_pred[0].shape"
   ]
  },
  {
   "cell_type": "code",
   "execution_count": 65,
   "metadata": {},
   "outputs": [
    {
     "data": {
      "text/plain": [
       "(1, 421, 1)"
      ]
     },
     "execution_count": 65,
     "metadata": {},
     "output_type": "execute_result"
    }
   ],
   "source": [
    "y_true[0].ndim"
   ]
  },
  {
   "cell_type": "code",
   "execution_count": 62,
   "metadata": {},
   "outputs": [
    {
     "data": {
      "text/plain": [
       "14"
      ]
     },
     "execution_count": 62,
     "metadata": {},
     "output_type": "execute_result"
    }
   ],
   "source": [
    "np.argmax(tag_pred[:, 0, :])"
   ]
  },
  {
   "cell_type": "code",
   "execution_count": 63,
   "metadata": {},
   "outputs": [
    {
     "data": {
      "text/plain": [
       "array([[14]])"
      ]
     },
     "execution_count": 63,
     "metadata": {},
     "output_type": "execute_result"
    }
   ],
   "source": [
    "y_true[0][:, 0, :]"
   ]
  }
 ],
 "metadata": {
  "kernelspec": {
   "display_name": "Python [conda env:keys] *",
   "language": "python",
   "name": "conda-env-keys-py"
  },
  "language_info": {
   "codemirror_mode": {
    "name": "ipython",
    "version": 3
   },
   "file_extension": ".py",
   "mimetype": "text/x-python",
   "name": "python",
   "nbconvert_exporter": "python",
   "pygments_lexer": "ipython3",
   "version": "3.7.4"
  }
 },
 "nbformat": 4,
 "nbformat_minor": 4
}
