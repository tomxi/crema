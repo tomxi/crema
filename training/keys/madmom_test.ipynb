{
 "cells": [
  {
   "cell_type": "code",
   "execution_count": 9,
   "metadata": {},
   "outputs": [],
   "source": [
    "import json\n",
    "import os\n",
    "\n",
    "from tqdm import tqdm\n",
    "import pandas as pd\n",
    "import jams\n",
    "import librosa\n",
    "import madmom\n",
    "import crema\n",
    "import pumpp"
   ]
  },
  {
   "cell_type": "code",
   "execution_count": 4,
   "metadata": {},
   "outputs": [],
   "source": [
    "def ann_to_label(ann):\n",
    "    intervals, labels = ann.to_interval_values()\n",
    "    dur_tracker = dict()\n",
    "\n",
    "    for interval, label in zip(intervals, labels):\n",
    "        dur = interval[1] - interval[0]\n",
    "        if label not in dur_tracker:\n",
    "            dur_tracker[label] = dur\n",
    "        else:\n",
    "            dur_tracker[label] += dur\n",
    "\n",
    "    # return the key with the max value as the gloabl key_mode\n",
    "    return max(dur_tracker, key=dur_tracker.get)\n",
    "\n",
    "\n",
    "class MadmomKeyAnalyzer(object):\n",
    "    def __init__(self):\n",
    "        self.key_processor = madmom.features.key.CNNKeyRecognitionProcessor()\n",
    "\n",
    "    def to_label(self, filename):\n",
    "        return madmom.features.key.key_prediction_to_label(self.key_processor(filename))\n",
    "    \n",
    "    def to_ann(self, filename):\n",
    "        label = self.to_label(filename)\n",
    "        label = ':'.join(label.split(' '))\n",
    "        file_dur = librosa.get_duration(filename=filename)\n",
    "        ann = jams.Annotation(namespace='key_mode', time=0, duration=file_dur)\n",
    "        ann.append(time=0, duration=file_dur, value=label)\n",
    "        return ann\n",
    "    \n",
    "    \n",
    "class CremaKeyAnalyzer(object):\n",
    "    def __init__(self):\n",
    "        self.model = crema.models.key.KeyModel()\n",
    "    \n",
    "    def to_ann(self, filename):\n",
    "        return self.model.predict(filename=filename)\n",
    "    \n",
    "    def to_label(self, filename):\n",
    "        ann = self.to_ann(filename)\n",
    "        label = ann_to_label(ann)\n",
    "        return ' '.join(label.split(':'))"
   ]
  },
  {
   "cell_type": "code",
   "execution_count": 5,
   "metadata": {},
   "outputs": [],
   "source": [
    "mka = MadmomKeyAnalyzer()\n",
    "cka = CremaKeyAnalyzer()"
   ]
  },
  {
   "cell_type": "code",
   "execution_count": 6,
   "metadata": {},
   "outputs": [],
   "source": [
    "f_name = librosa.util.example_audio_file()\n",
    "\n",
    "m_label = mka.to_label(f_name)\n",
    "c_label = cka.to_label(f_name)"
   ]
  },
  {
   "cell_type": "code",
   "execution_count": 7,
   "metadata": {},
   "outputs": [
    {
     "data": {
      "text/plain": [
       "('E major', 'E major')"
      ]
     },
     "execution_count": 7,
     "metadata": {},
     "output_type": "execute_result"
    }
   ],
   "source": [
    "m_label, c_label"
   ]
  },
  {
   "cell_type": "markdown",
   "metadata": {},
   "source": [
    "## Next steps\n",
    "- convert ground truth to label and to jams\n",
    "- convert madmom label to jams and compare there\n",
    "- *optional* convert crema jams to label and compare there"
   ]
  },
  {
   "cell_type": "code",
   "execution_count": 8,
   "metadata": {},
   "outputs": [],
   "source": [
    "DATA_HOME = \"/Users/tom/Music/GuitarSet/\"\n",
    "\n",
    "with open('val_track_ids.json', 'r') as fp:\n",
    "    val_track_ids = json.load(fp)\n",
    "\n",
    "with open('guitarset_index.json', 'r') as fp:\n",
    "    guitarset_idx = json.load(fp)"
   ]
  },
  {
   "cell_type": "code",
   "execution_count": 35,
   "metadata": {},
   "outputs": [
    {
     "name": "stderr",
     "output_type": "stream",
     "text": [
      "100%|██████████| 72/72 [06:33<00:00,  5.70s/it]\n"
     ]
    }
   ],
   "source": [
    "label_true = []\n",
    "label_madmom = []\n",
    "label_crema = []\n",
    "\n",
    "for val_id in tqdm(val_track_ids):\n",
    "    val_id = val_id[:-4]\n",
    "    jam_path = os.path.join(DATA_HOME, guitarset_idx[val_id]['jams'][0])\n",
    "    mic_path = os.path.join(DATA_HOME, guitarset_idx[val_id]['audio_mic'][0])\n",
    "    \n",
    "    ann_true = jams.load(jam_path).search(namespace='key_mode')[0]\n",
    "    l_true = ann_to_label(ann_true)\n",
    "    label_true.append(' '.join(l_true.split(':')))\n",
    "    label_madmom.append(mka.to_label(mic_path))\n",
    "    label_crema.append(cka.to_label(mic_path))\n",
    "\n",
    "result = pd.DataFrame(data={'truth':label_true, 'madmom':label_madmom, 'crema':label_crema}, \n",
    "                      index=val_track_ids)"
   ]
  },
  {
   "cell_type": "code",
   "execution_count": 36,
   "metadata": {},
   "outputs": [
    {
     "data": {
      "text/html": [
       "<div>\n",
       "<style scoped>\n",
       "    .dataframe tbody tr th:only-of-type {\n",
       "        vertical-align: middle;\n",
       "    }\n",
       "\n",
       "    .dataframe tbody tr th {\n",
       "        vertical-align: top;\n",
       "    }\n",
       "\n",
       "    .dataframe thead th {\n",
       "        text-align: right;\n",
       "    }\n",
       "</style>\n",
       "<table border=\"1\" class=\"dataframe\">\n",
       "  <thead>\n",
       "    <tr style=\"text-align: right;\">\n",
       "      <th></th>\n",
       "      <th>truth</th>\n",
       "      <th>madmom</th>\n",
       "      <th>crema</th>\n",
       "    </tr>\n",
       "  </thead>\n",
       "  <tbody>\n",
       "    <tr>\n",
       "      <td>05_Funk3-112-C#_comp_mic</td>\n",
       "      <td>C# major</td>\n",
       "      <td>Ab major</td>\n",
       "      <td>C# major</td>\n",
       "    </tr>\n",
       "    <tr>\n",
       "      <td>01_Rock1-130-A_comp_mic</td>\n",
       "      <td>A major</td>\n",
       "      <td>A major</td>\n",
       "      <td>A major</td>\n",
       "    </tr>\n",
       "    <tr>\n",
       "      <td>04_BN3-154-E_solo_mic</td>\n",
       "      <td>E major</td>\n",
       "      <td>E major</td>\n",
       "      <td>E major</td>\n",
       "    </tr>\n",
       "    <tr>\n",
       "      <td>02_SS2-107-Ab_solo_mic</td>\n",
       "      <td>Ab minor</td>\n",
       "      <td>B major</td>\n",
       "      <td>G# minor</td>\n",
       "    </tr>\n",
       "    <tr>\n",
       "      <td>00_Funk2-119-G_solo_mic</td>\n",
       "      <td>G minor</td>\n",
       "      <td>F major</td>\n",
       "      <td>A# major</td>\n",
       "    </tr>\n",
       "    <tr>\n",
       "      <td>...</td>\n",
       "      <td>...</td>\n",
       "      <td>...</td>\n",
       "      <td>...</td>\n",
       "    </tr>\n",
       "    <tr>\n",
       "      <td>00_BN1-129-Eb_comp_mic</td>\n",
       "      <td>Eb major</td>\n",
       "      <td>Bb major</td>\n",
       "      <td>D# major</td>\n",
       "    </tr>\n",
       "    <tr>\n",
       "      <td>03_Rock1-90-C#_solo_mic</td>\n",
       "      <td>C# major</td>\n",
       "      <td>E major</td>\n",
       "      <td>C# major</td>\n",
       "    </tr>\n",
       "    <tr>\n",
       "      <td>02_SS3-84-Bb_comp_mic</td>\n",
       "      <td>Bb major</td>\n",
       "      <td>Eb major</td>\n",
       "      <td>A# major</td>\n",
       "    </tr>\n",
       "    <tr>\n",
       "      <td>02_Rock3-148-C_solo_mic</td>\n",
       "      <td>C major</td>\n",
       "      <td>C major</td>\n",
       "      <td>C major</td>\n",
       "    </tr>\n",
       "    <tr>\n",
       "      <td>05_Rock1-90-C#_comp_mic</td>\n",
       "      <td>C# major</td>\n",
       "      <td>Db major</td>\n",
       "      <td>C# major</td>\n",
       "    </tr>\n",
       "  </tbody>\n",
       "</table>\n",
       "<p>72 rows × 3 columns</p>\n",
       "</div>"
      ],
      "text/plain": [
       "                             truth    madmom     crema\n",
       "05_Funk3-112-C#_comp_mic  C# major  Ab major  C# major\n",
       "01_Rock1-130-A_comp_mic    A major   A major   A major\n",
       "04_BN3-154-E_solo_mic      E major   E major   E major\n",
       "02_SS2-107-Ab_solo_mic    Ab minor   B major  G# minor\n",
       "00_Funk2-119-G_solo_mic    G minor   F major  A# major\n",
       "...                            ...       ...       ...\n",
       "00_BN1-129-Eb_comp_mic    Eb major  Bb major  D# major\n",
       "03_Rock1-90-C#_solo_mic   C# major   E major  C# major\n",
       "02_SS3-84-Bb_comp_mic     Bb major  Eb major  A# major\n",
       "02_Rock3-148-C_solo_mic    C major   C major   C major\n",
       "05_Rock1-90-C#_comp_mic   C# major  Db major  C# major\n",
       "\n",
       "[72 rows x 3 columns]"
      ]
     },
     "execution_count": 36,
     "metadata": {},
     "output_type": "execute_result"
    }
   ],
   "source": [
    "result"
   ]
  },
  {
   "cell_type": "code",
   "execution_count": 37,
   "metadata": {},
   "outputs": [],
   "source": [
    "import mir_eval"
   ]
  },
  {
   "cell_type": "code",
   "execution_count": 38,
   "metadata": {},
   "outputs": [
    {
     "name": "stdout",
     "output_type": "stream",
     "text": [
      "weighted mirex scores:\n",
      "\t madmom : 0.5527777777777777\n",
      "\t crema  : 0.9152777777777779\n"
     ]
    }
   ],
   "source": [
    "t_score = 0\n",
    "m_score = 0\n",
    "c_score = 0\n",
    "\n",
    "for track_id, row in result.iterrows():\n",
    "    t_score += mir_eval.key.evaluate(reference_key=row.truth, estimated_key=row.truth)['Weighted Score']\n",
    "    m_score += mir_eval.key.evaluate(reference_key=row.truth, estimated_key=row.madmom)['Weighted Score']\n",
    "    c_score += mir_eval.key.evaluate(reference_key=row.truth, estimated_key=row.crema)['Weighted Score']\n",
    "    \n",
    "print('weighted mirex scores:')\n",
    "print('\\t madmom : {}'.format(m_score / t_score))\n",
    "print('\\t crema  : {}'.format(c_score / t_score))"
   ]
  },
  {
   "cell_type": "code",
   "execution_count": null,
   "metadata": {},
   "outputs": [],
   "source": []
  }
 ],
 "metadata": {
  "kernelspec": {
   "display_name": "Python [conda env:keys] *",
   "language": "python",
   "name": "conda-env-keys-py"
  },
  "language_info": {
   "codemirror_mode": {
    "name": "ipython",
    "version": 3
   },
   "file_extension": ".py",
   "mimetype": "text/x-python",
   "name": "python",
   "nbconvert_exporter": "python",
   "pygments_lexer": "ipython3",
   "version": "3.7.4"
  }
 },
 "nbformat": 4,
 "nbformat_minor": 4
}
