{
 "cells": [
  {
   "cell_type": "code",
   "execution_count": 1,
   "metadata": {},
   "outputs": [
    {
     "name": "stderr",
     "output_type": "stream",
     "text": [
      "Using TensorFlow backend.\n"
     ]
    }
   ],
   "source": [
    "import json\n",
    "import os\n",
    "\n",
    "from tqdm import tqdm\n",
    "import pandas as pd\n",
    "import jams\n",
    "import librosa\n",
    "import madmom\n",
    "import crema\n",
    "import pumpp\n",
    "import mir_eval"
   ]
  },
  {
   "cell_type": "code",
   "execution_count": 2,
   "metadata": {},
   "outputs": [],
   "source": [
    "def ann_to_label(ann):\n",
    "    intervals, labels = ann.to_interval_values()\n",
    "    dur_tracker = dict()\n",
    "\n",
    "    for interval, label in zip(intervals, labels):\n",
    "        dur = interval[1] - interval[0]\n",
    "        if label not in dur_tracker:\n",
    "            dur_tracker[label] = dur\n",
    "        else:\n",
    "            dur_tracker[label] += dur\n",
    "\n",
    "    # return the key with the max value as the gloabl key_mode\n",
    "    return max(dur_tracker, key=dur_tracker.get)\n",
    "\n",
    "\n",
    "class MadmomKeyAnalyzer(object):\n",
    "    def __init__(self):\n",
    "        self.key_processor = madmom.features.key.CNNKeyRecognitionProcessor()\n",
    "\n",
    "    def to_label(self, filename):\n",
    "        return madmom.features.key.key_prediction_to_label(self.key_processor(filename))\n",
    "    \n",
    "    def to_ann(self, filename):\n",
    "        label = self.to_label(filename)\n",
    "        label = ':'.join(label.split(' '))\n",
    "        file_dur = librosa.get_duration(filename=filename)\n",
    "        ann = jams.Annotation(namespace='key_mode', time=0, duration=file_dur)\n",
    "        ann.append(time=0, duration=file_dur, value=label)\n",
    "        return ann\n",
    "\n",
    "\n",
    "class CremaKeyAnalyzer(object):\n",
    "    def __init__(self, model_weights='model.h5'):\n",
    "        self.model = crema.models.key.KeyModel(model_weights=model_weights)\n",
    "    \n",
    "    def to_ann(self, filename):\n",
    "        return self.model.predict(filename=filename)\n",
    "    \n",
    "    def to_label(self, filename):\n",
    "        ann = self.to_ann(filename)\n",
    "        label = ann_to_label(ann)\n",
    "        return ' '.join(label.split(':'))"
   ]
  },
  {
   "cell_type": "code",
   "execution_count": 3,
   "metadata": {},
   "outputs": [
    {
     "name": "stderr",
     "output_type": "stream",
     "text": [
      "WARNING: Logging before flag parsing goes to stderr.\n",
      "W0924 14:31:18.019973 4561851840 deprecation_wrapper.py:119] From /Users/tom/.pyenv/versions/miniconda3-latest/envs/keys/lib/python3.7/site-packages/keras/backend/tensorflow_backend.py:541: The name tf.placeholder is deprecated. Please use tf.compat.v1.placeholder instead.\n",
      "\n",
      "W0924 14:31:18.080755 4561851840 deprecation_wrapper.py:119] From /Users/tom/.pyenv/versions/miniconda3-latest/envs/keys/lib/python3.7/site-packages/keras/backend/tensorflow_backend.py:66: The name tf.get_default_graph is deprecated. Please use tf.compat.v1.get_default_graph instead.\n",
      "\n",
      "W0924 14:31:18.099468 4561851840 deprecation_wrapper.py:119] From /Users/tom/.pyenv/versions/miniconda3-latest/envs/keys/lib/python3.7/site-packages/keras/backend/tensorflow_backend.py:190: The name tf.get_default_session is deprecated. Please use tf.compat.v1.get_default_session instead.\n",
      "\n",
      "W0924 14:31:18.100186 4561851840 deprecation_wrapper.py:119] From /Users/tom/.pyenv/versions/miniconda3-latest/envs/keys/lib/python3.7/site-packages/keras/backend/tensorflow_backend.py:197: The name tf.ConfigProto is deprecated. Please use tf.compat.v1.ConfigProto instead.\n",
      "\n",
      "W0924 14:31:18.101245 4561851840 deprecation_wrapper.py:119] From /Users/tom/.pyenv/versions/miniconda3-latest/envs/keys/lib/python3.7/site-packages/keras/backend/tensorflow_backend.py:203: The name tf.Session is deprecated. Please use tf.compat.v1.Session instead.\n",
      "\n",
      "W0924 14:31:18.232229 4561851840 deprecation_wrapper.py:119] From /Users/tom/.pyenv/versions/miniconda3-latest/envs/keys/lib/python3.7/site-packages/keras/backend/tensorflow_backend.py:2041: The name tf.nn.fused_batch_norm is deprecated. Please use tf.compat.v1.nn.fused_batch_norm instead.\n",
      "\n"
     ]
    }
   ],
   "source": [
    "mka = MadmomKeyAnalyzer()\n",
    "cka_gs = CremaKeyAnalyzer(model_weights='gs_model.h5')\n",
    "cka_gs_aug = CremaKeyAnalyzer(model_weights='gs_aug_model.h5')"
   ]
  },
  {
   "cell_type": "code",
   "execution_count": 6,
   "metadata": {},
   "outputs": [],
   "source": [
    "f_name = librosa.util.example_audio_file()\n",
    "\n",
    "m_label = mka.to_label(f_name)\n",
    "c_label = cka.to_label(f_name)"
   ]
  },
  {
   "cell_type": "code",
   "execution_count": 7,
   "metadata": {},
   "outputs": [
    {
     "data": {
      "text/plain": [
       "('E major', 'E major')"
      ]
     },
     "execution_count": 7,
     "metadata": {},
     "output_type": "execute_result"
    }
   ],
   "source": [
    "m_label, c_label"
   ]
  },
  {
   "cell_type": "markdown",
   "metadata": {},
   "source": [
    "## Next steps\n",
    "- convert ground truth to label and to jams\n",
    "- convert madmom label to jams and compare there\n",
    "- *optional* convert crema jams to label and compare there"
   ]
  },
  {
   "cell_type": "code",
   "execution_count": 4,
   "metadata": {},
   "outputs": [],
   "source": [
    "GS_HOME = \"/Users/tom/Music/GuitarSet/\"\n",
    "\n",
    "gs_val_index = pd.read_json('dataset_indecies/gs_val_idx.json')[0]\n",
    "gs_index = pd.read_json('dataset_indecies/guitarset_index.json')"
   ]
  },
  {
   "cell_type": "code",
   "execution_count": 9,
   "metadata": {},
   "outputs": [],
   "source": [
    "def result_df_to_score_(result):\n",
    "    t_score = 0\n",
    "    m_score = 0\n",
    "    c_score = 0\n",
    "    ca_score = 0\n",
    "\n",
    "    for track_id, row in result.iterrows():\n",
    "        t_score += mir_eval.key.evaluate(reference_key=row.truth, estimated_key=row.truth)['Weighted Score']\n",
    "        m_score += mir_eval.key.evaluate(reference_key=row.truth, estimated_key=row.madmom)['Weighted Score']\n",
    "        c_score += mir_eval.key.evaluate(reference_key=row.truth, estimated_key=row.crema)['Weighted Score']\n",
    "        ca_score += mir_eval.key.evaluate(reference_key=row.truth, estimated_key=row.crema_aug)['Weighted Score']\n",
    "\n",
    "    print('weighted mirex scores:')\n",
    "    print('\\t madmom : {}'.format(m_score / t_score))\n",
    "    print('\\t crema  : {}'.format(c_score / t_score))\n",
    "    print('\\t crema_aug  : {}'.format(ca_score / t_score))"
   ]
  },
  {
   "cell_type": "code",
   "execution_count": 6,
   "metadata": {},
   "outputs": [
    {
     "data": {
      "text/plain": [
       "Index(['audio_mic_comp', 'audio_mix_comp', 'jams_comp', 'audio_mic_solo',\n",
       "       'audio_mix_solo', 'jams_solo', 'audio_mic_duo'],\n",
       "      dtype='object')"
      ]
     },
     "execution_count": 6,
     "metadata": {},
     "output_type": "execute_result"
    }
   ],
   "source": [
    "gs_index.keys()"
   ]
  },
  {
   "cell_type": "code",
   "execution_count": 8,
   "metadata": {},
   "outputs": [
    {
     "name": "stderr",
     "output_type": "stream",
     "text": [
      "100%|██████████| 36/36 [04:48<00:00,  7.22s/it]"
     ]
    },
    {
     "name": "stdout",
     "output_type": "stream",
     "text": [
      "weighted mirex scores:\n",
      "\t madmom : 0.7000000000000001\n",
      "\t crema  : 0.9388888888888888\n"
     ]
    },
    {
     "name": "stderr",
     "output_type": "stream",
     "text": [
      "\n"
     ]
    }
   ],
   "source": [
    "# ONLY ON COMP\n",
    "label_true = []\n",
    "label_madmom = []\n",
    "label_crema = []\n",
    "label_crema_aug = []\n",
    "\n",
    "for val_id in tqdm(gs_val_index):\n",
    "    jam_path = os.path.join(GS_HOME, gs_index.jams_comp[val_id])\n",
    "    mic_path = os.path.join(GS_HOME, gs_index.audio_mic_comp[val_id])\n",
    "    \n",
    "    ann_true = jams.load(jam_path).search(namespace='key_mode')[0]\n",
    "    l_true = ann_to_label(ann_true)\n",
    "    label_true.append(' '.join(l_true.split(':')))\n",
    "    label_madmom.append(mka.to_label(mic_path))\n",
    "    label_crema.append(cka_gs.to_label(mic_path))\n",
    "    label_crema_aug.append(cka_gs_aug.to_label(mic_path))\n",
    "\n",
    "gs_comp_result = pd.DataFrame(data={'truth':label_true, 'madmom':label_madmom, 'crema':label_crema, 'crema_aug':label_crema_aug}, \n",
    "                              index=gs_val_index)\n",
    "\n",
    "result_df_to_score_(gs_comp_result)"
   ]
  },
  {
   "cell_type": "code",
   "execution_count": 10,
   "metadata": {},
   "outputs": [
    {
     "name": "stdout",
     "output_type": "stream",
     "text": [
      "weighted mirex scores:\n",
      "\t madmom : 0.7000000000000001\n",
      "\t crema  : 0.9388888888888888\n",
      "\t crema_aug  : 0.8555555555555556\n"
     ]
    }
   ],
   "source": [
    "result_df_to_score_(gs_comp_result)"
   ]
  },
  {
   "cell_type": "code",
   "execution_count": 11,
   "metadata": {},
   "outputs": [
    {
     "name": "stderr",
     "output_type": "stream",
     "text": [
      "100%|██████████| 36/36 [04:37<00:00,  7.10s/it]"
     ]
    },
    {
     "name": "stdout",
     "output_type": "stream",
     "text": [
      "weighted mirex scores:\n",
      "\t madmom : 0.5444444444444446\n",
      "\t crema  : 0.46388888888888896\n",
      "\t crema_aug  : 0.4000000000000001\n"
     ]
    },
    {
     "name": "stderr",
     "output_type": "stream",
     "text": [
      "\n"
     ]
    }
   ],
   "source": [
    "# ONLY ON SOLO\n",
    "label_true = []\n",
    "label_madmom = []\n",
    "label_crema = []\n",
    "label_crema_aug = []\n",
    "\n",
    "for val_id in tqdm(gs_val_index):\n",
    "    jam_path = os.path.join(GS_HOME, gs_index.jams_comp[val_id])\n",
    "    mic_path = os.path.join(GS_HOME, gs_index.audio_mic_solo[val_id])\n",
    "    \n",
    "    ann_true = jams.load(jam_path).search(namespace='key_mode')[0]\n",
    "    l_true = ann_to_label(ann_true)\n",
    "    label_true.append(' '.join(l_true.split(':')))\n",
    "    label_madmom.append(mka.to_label(mic_path))\n",
    "    label_crema.append(cka_gs.to_label(mic_path))\n",
    "    label_crema_aug.append(cka_gs_aug.to_label(mic_path))\n",
    "\n",
    "gs_solo_result = pd.DataFrame(data={'truth':label_true, 'madmom':label_madmom, 'crema':label_crema, 'crema_aug':label_crema_aug}, \n",
    "                              index=gs_val_index)\n",
    "\n",
    "result_df_to_score_(gs_solo_result)"
   ]
  },
  {
   "cell_type": "code",
   "execution_count": 26,
   "metadata": {},
   "outputs": [
    {
     "data": {
      "text/html": [
       "<div>\n",
       "<style scoped>\n",
       "    .dataframe tbody tr th:only-of-type {\n",
       "        vertical-align: middle;\n",
       "    }\n",
       "\n",
       "    .dataframe tbody tr th {\n",
       "        vertical-align: top;\n",
       "    }\n",
       "\n",
       "    .dataframe thead th {\n",
       "        text-align: right;\n",
       "    }\n",
       "</style>\n",
       "<table border=\"1\" class=\"dataframe\">\n",
       "  <thead>\n",
       "    <tr style=\"text-align: right;\">\n",
       "      <th></th>\n",
       "      <th>audio_mic_comp</th>\n",
       "      <th>audio_mix_comp</th>\n",
       "      <th>jams_comp</th>\n",
       "      <th>audio_mic_solo</th>\n",
       "      <th>audio_mix_solo</th>\n",
       "      <th>jams_solo</th>\n",
       "      <th>audio_mic_duo</th>\n",
       "    </tr>\n",
       "  </thead>\n",
       "  <tbody>\n",
       "    <tr>\n",
       "      <td>00_BN1-129-Eb</td>\n",
       "      <td>audio_mono-mic/00_BN1-129-Eb_comp_mic.wav</td>\n",
       "      <td>audio_mono-pickup_mix/00_BN1-129-Eb_comp_mix.wav</td>\n",
       "      <td>annotation/00_BN1-129-Eb_comp.jams</td>\n",
       "      <td>audio_mono-mic/00_BN1-129-Eb_solo_mic.wav</td>\n",
       "      <td>audio_mono-pickup_mix/00_BN1-129-Eb_solo_mix.wav</td>\n",
       "      <td>annotation/00_BN1-129-Eb_solo.jams</td>\n",
       "      <td>audio_mono-mic/00_BN1-129-Eb_duo_mic.wav</td>\n",
       "    </tr>\n",
       "    <tr>\n",
       "      <td>00_BN1-147-Gb</td>\n",
       "      <td>audio_mono-mic/00_BN1-147-Gb_comp_mic.wav</td>\n",
       "      <td>audio_mono-pickup_mix/00_BN1-147-Gb_comp_mix.wav</td>\n",
       "      <td>annotation/00_BN1-147-Gb_comp.jams</td>\n",
       "      <td>audio_mono-mic/00_BN1-147-Gb_solo_mic.wav</td>\n",
       "      <td>audio_mono-pickup_mix/00_BN1-147-Gb_solo_mix.wav</td>\n",
       "      <td>annotation/00_BN1-147-Gb_solo.jams</td>\n",
       "      <td>audio_mono-mic/00_BN1-147-Gb_duo_mic.wav</td>\n",
       "    </tr>\n",
       "    <tr>\n",
       "      <td>00_BN2-131-B</td>\n",
       "      <td>audio_mono-mic/00_BN2-131-B_comp_mic.wav</td>\n",
       "      <td>audio_mono-pickup_mix/00_BN2-131-B_comp_mix.wav</td>\n",
       "      <td>annotation/00_BN2-131-B_comp.jams</td>\n",
       "      <td>audio_mono-mic/00_BN2-131-B_solo_mic.wav</td>\n",
       "      <td>audio_mono-pickup_mix/00_BN2-131-B_solo_mix.wav</td>\n",
       "      <td>annotation/00_BN2-131-B_solo.jams</td>\n",
       "      <td>audio_mono-mic/00_BN2-131-B_duo_mic.wav</td>\n",
       "    </tr>\n",
       "    <tr>\n",
       "      <td>00_BN2-166-Ab</td>\n",
       "      <td>audio_mono-mic/00_BN2-166-Ab_comp_mic.wav</td>\n",
       "      <td>audio_mono-pickup_mix/00_BN2-166-Ab_comp_mix.wav</td>\n",
       "      <td>annotation/00_BN2-166-Ab_comp.jams</td>\n",
       "      <td>audio_mono-mic/00_BN2-166-Ab_solo_mic.wav</td>\n",
       "      <td>audio_mono-pickup_mix/00_BN2-166-Ab_solo_mix.wav</td>\n",
       "      <td>annotation/00_BN2-166-Ab_solo.jams</td>\n",
       "      <td>audio_mono-mic/00_BN2-166-Ab_duo_mic.wav</td>\n",
       "    </tr>\n",
       "    <tr>\n",
       "      <td>00_BN3-119-G</td>\n",
       "      <td>audio_mono-mic/00_BN3-119-G_comp_mic.wav</td>\n",
       "      <td>audio_mono-pickup_mix/00_BN3-119-G_comp_mix.wav</td>\n",
       "      <td>annotation/00_BN3-119-G_comp.jams</td>\n",
       "      <td>audio_mono-mic/00_BN3-119-G_solo_mic.wav</td>\n",
       "      <td>audio_mono-pickup_mix/00_BN3-119-G_solo_mix.wav</td>\n",
       "      <td>annotation/00_BN3-119-G_solo.jams</td>\n",
       "      <td>audio_mono-mic/00_BN3-119-G_duo_mic.wav</td>\n",
       "    </tr>\n",
       "    <tr>\n",
       "      <td>...</td>\n",
       "      <td>...</td>\n",
       "      <td>...</td>\n",
       "      <td>...</td>\n",
       "      <td>...</td>\n",
       "      <td>...</td>\n",
       "      <td>...</td>\n",
       "      <td>...</td>\n",
       "    </tr>\n",
       "    <tr>\n",
       "      <td>05_SS1-68-E</td>\n",
       "      <td>audio_mono-mic/05_SS1-68-E_comp_mic.wav</td>\n",
       "      <td>audio_mono-pickup_mix/05_SS1-68-E_comp_mix.wav</td>\n",
       "      <td>annotation/05_SS1-68-E_comp.jams</td>\n",
       "      <td>audio_mono-mic/05_SS1-68-E_solo_mic.wav</td>\n",
       "      <td>audio_mono-pickup_mix/05_SS1-68-E_solo_mix.wav</td>\n",
       "      <td>annotation/05_SS1-68-E_solo.jams</td>\n",
       "      <td>audio_mono-mic/05_SS1-68-E_duo_mic.wav</td>\n",
       "    </tr>\n",
       "    <tr>\n",
       "      <td>05_SS2-107-Ab</td>\n",
       "      <td>audio_mono-mic/05_SS2-107-Ab_comp_mic.wav</td>\n",
       "      <td>audio_mono-pickup_mix/05_SS2-107-Ab_comp_mix.wav</td>\n",
       "      <td>annotation/05_SS2-107-Ab_comp.jams</td>\n",
       "      <td>audio_mono-mic/05_SS2-107-Ab_solo_mic.wav</td>\n",
       "      <td>audio_mono-pickup_mix/05_SS2-107-Ab_solo_mix.wav</td>\n",
       "      <td>annotation/05_SS2-107-Ab_solo.jams</td>\n",
       "      <td>audio_mono-mic/05_SS2-107-Ab_duo_mic.wav</td>\n",
       "    </tr>\n",
       "    <tr>\n",
       "      <td>05_SS2-88-F</td>\n",
       "      <td>audio_mono-mic/05_SS2-88-F_comp_mic.wav</td>\n",
       "      <td>audio_mono-pickup_mix/05_SS2-88-F_comp_mix.wav</td>\n",
       "      <td>annotation/05_SS2-88-F_comp.jams</td>\n",
       "      <td>audio_mono-mic/05_SS2-88-F_solo_mic.wav</td>\n",
       "      <td>audio_mono-pickup_mix/05_SS2-88-F_solo_mix.wav</td>\n",
       "      <td>annotation/05_SS2-88-F_solo.jams</td>\n",
       "      <td>audio_mono-mic/05_SS2-88-F_duo_mic.wav</td>\n",
       "    </tr>\n",
       "    <tr>\n",
       "      <td>05_SS3-84-Bb</td>\n",
       "      <td>audio_mono-mic/05_SS3-84-Bb_comp_mic.wav</td>\n",
       "      <td>audio_mono-pickup_mix/05_SS3-84-Bb_comp_mix.wav</td>\n",
       "      <td>annotation/05_SS3-84-Bb_comp.jams</td>\n",
       "      <td>audio_mono-mic/05_SS3-84-Bb_solo_mic.wav</td>\n",
       "      <td>audio_mono-pickup_mix/05_SS3-84-Bb_solo_mix.wav</td>\n",
       "      <td>annotation/05_SS3-84-Bb_solo.jams</td>\n",
       "      <td>audio_mono-mic/05_SS3-84-Bb_duo_mic.wav</td>\n",
       "    </tr>\n",
       "    <tr>\n",
       "      <td>05_SS3-98-C</td>\n",
       "      <td>audio_mono-mic/05_SS3-98-C_comp_mic.wav</td>\n",
       "      <td>audio_mono-pickup_mix/05_SS3-98-C_comp_mix.wav</td>\n",
       "      <td>annotation/05_SS3-98-C_comp.jams</td>\n",
       "      <td>audio_mono-mic/05_SS3-98-C_solo_mic.wav</td>\n",
       "      <td>audio_mono-pickup_mix/05_SS3-98-C_solo_mix.wav</td>\n",
       "      <td>annotation/05_SS3-98-C_solo.jams</td>\n",
       "      <td>audio_mono-mic/05_SS3-98-C_duo_mic.wav</td>\n",
       "    </tr>\n",
       "  </tbody>\n",
       "</table>\n",
       "<p>180 rows × 7 columns</p>\n",
       "</div>"
      ],
      "text/plain": [
       "                                          audio_mic_comp  \\\n",
       "00_BN1-129-Eb  audio_mono-mic/00_BN1-129-Eb_comp_mic.wav   \n",
       "00_BN1-147-Gb  audio_mono-mic/00_BN1-147-Gb_comp_mic.wav   \n",
       "00_BN2-131-B    audio_mono-mic/00_BN2-131-B_comp_mic.wav   \n",
       "00_BN2-166-Ab  audio_mono-mic/00_BN2-166-Ab_comp_mic.wav   \n",
       "00_BN3-119-G    audio_mono-mic/00_BN3-119-G_comp_mic.wav   \n",
       "...                                                  ...   \n",
       "05_SS1-68-E      audio_mono-mic/05_SS1-68-E_comp_mic.wav   \n",
       "05_SS2-107-Ab  audio_mono-mic/05_SS2-107-Ab_comp_mic.wav   \n",
       "05_SS2-88-F      audio_mono-mic/05_SS2-88-F_comp_mic.wav   \n",
       "05_SS3-84-Bb    audio_mono-mic/05_SS3-84-Bb_comp_mic.wav   \n",
       "05_SS3-98-C      audio_mono-mic/05_SS3-98-C_comp_mic.wav   \n",
       "\n",
       "                                                 audio_mix_comp  \\\n",
       "00_BN1-129-Eb  audio_mono-pickup_mix/00_BN1-129-Eb_comp_mix.wav   \n",
       "00_BN1-147-Gb  audio_mono-pickup_mix/00_BN1-147-Gb_comp_mix.wav   \n",
       "00_BN2-131-B    audio_mono-pickup_mix/00_BN2-131-B_comp_mix.wav   \n",
       "00_BN2-166-Ab  audio_mono-pickup_mix/00_BN2-166-Ab_comp_mix.wav   \n",
       "00_BN3-119-G    audio_mono-pickup_mix/00_BN3-119-G_comp_mix.wav   \n",
       "...                                                         ...   \n",
       "05_SS1-68-E      audio_mono-pickup_mix/05_SS1-68-E_comp_mix.wav   \n",
       "05_SS2-107-Ab  audio_mono-pickup_mix/05_SS2-107-Ab_comp_mix.wav   \n",
       "05_SS2-88-F      audio_mono-pickup_mix/05_SS2-88-F_comp_mix.wav   \n",
       "05_SS3-84-Bb    audio_mono-pickup_mix/05_SS3-84-Bb_comp_mix.wav   \n",
       "05_SS3-98-C      audio_mono-pickup_mix/05_SS3-98-C_comp_mix.wav   \n",
       "\n",
       "                                        jams_comp  \\\n",
       "00_BN1-129-Eb  annotation/00_BN1-129-Eb_comp.jams   \n",
       "00_BN1-147-Gb  annotation/00_BN1-147-Gb_comp.jams   \n",
       "00_BN2-131-B    annotation/00_BN2-131-B_comp.jams   \n",
       "00_BN2-166-Ab  annotation/00_BN2-166-Ab_comp.jams   \n",
       "00_BN3-119-G    annotation/00_BN3-119-G_comp.jams   \n",
       "...                                           ...   \n",
       "05_SS1-68-E      annotation/05_SS1-68-E_comp.jams   \n",
       "05_SS2-107-Ab  annotation/05_SS2-107-Ab_comp.jams   \n",
       "05_SS2-88-F      annotation/05_SS2-88-F_comp.jams   \n",
       "05_SS3-84-Bb    annotation/05_SS3-84-Bb_comp.jams   \n",
       "05_SS3-98-C      annotation/05_SS3-98-C_comp.jams   \n",
       "\n",
       "                                          audio_mic_solo  \\\n",
       "00_BN1-129-Eb  audio_mono-mic/00_BN1-129-Eb_solo_mic.wav   \n",
       "00_BN1-147-Gb  audio_mono-mic/00_BN1-147-Gb_solo_mic.wav   \n",
       "00_BN2-131-B    audio_mono-mic/00_BN2-131-B_solo_mic.wav   \n",
       "00_BN2-166-Ab  audio_mono-mic/00_BN2-166-Ab_solo_mic.wav   \n",
       "00_BN3-119-G    audio_mono-mic/00_BN3-119-G_solo_mic.wav   \n",
       "...                                                  ...   \n",
       "05_SS1-68-E      audio_mono-mic/05_SS1-68-E_solo_mic.wav   \n",
       "05_SS2-107-Ab  audio_mono-mic/05_SS2-107-Ab_solo_mic.wav   \n",
       "05_SS2-88-F      audio_mono-mic/05_SS2-88-F_solo_mic.wav   \n",
       "05_SS3-84-Bb    audio_mono-mic/05_SS3-84-Bb_solo_mic.wav   \n",
       "05_SS3-98-C      audio_mono-mic/05_SS3-98-C_solo_mic.wav   \n",
       "\n",
       "                                                 audio_mix_solo  \\\n",
       "00_BN1-129-Eb  audio_mono-pickup_mix/00_BN1-129-Eb_solo_mix.wav   \n",
       "00_BN1-147-Gb  audio_mono-pickup_mix/00_BN1-147-Gb_solo_mix.wav   \n",
       "00_BN2-131-B    audio_mono-pickup_mix/00_BN2-131-B_solo_mix.wav   \n",
       "00_BN2-166-Ab  audio_mono-pickup_mix/00_BN2-166-Ab_solo_mix.wav   \n",
       "00_BN3-119-G    audio_mono-pickup_mix/00_BN3-119-G_solo_mix.wav   \n",
       "...                                                         ...   \n",
       "05_SS1-68-E      audio_mono-pickup_mix/05_SS1-68-E_solo_mix.wav   \n",
       "05_SS2-107-Ab  audio_mono-pickup_mix/05_SS2-107-Ab_solo_mix.wav   \n",
       "05_SS2-88-F      audio_mono-pickup_mix/05_SS2-88-F_solo_mix.wav   \n",
       "05_SS3-84-Bb    audio_mono-pickup_mix/05_SS3-84-Bb_solo_mix.wav   \n",
       "05_SS3-98-C      audio_mono-pickup_mix/05_SS3-98-C_solo_mix.wav   \n",
       "\n",
       "                                        jams_solo  \\\n",
       "00_BN1-129-Eb  annotation/00_BN1-129-Eb_solo.jams   \n",
       "00_BN1-147-Gb  annotation/00_BN1-147-Gb_solo.jams   \n",
       "00_BN2-131-B    annotation/00_BN2-131-B_solo.jams   \n",
       "00_BN2-166-Ab  annotation/00_BN2-166-Ab_solo.jams   \n",
       "00_BN3-119-G    annotation/00_BN3-119-G_solo.jams   \n",
       "...                                           ...   \n",
       "05_SS1-68-E      annotation/05_SS1-68-E_solo.jams   \n",
       "05_SS2-107-Ab  annotation/05_SS2-107-Ab_solo.jams   \n",
       "05_SS2-88-F      annotation/05_SS2-88-F_solo.jams   \n",
       "05_SS3-84-Bb    annotation/05_SS3-84-Bb_solo.jams   \n",
       "05_SS3-98-C      annotation/05_SS3-98-C_solo.jams   \n",
       "\n",
       "                                          audio_mic_duo  \n",
       "00_BN1-129-Eb  audio_mono-mic/00_BN1-129-Eb_duo_mic.wav  \n",
       "00_BN1-147-Gb  audio_mono-mic/00_BN1-147-Gb_duo_mic.wav  \n",
       "00_BN2-131-B    audio_mono-mic/00_BN2-131-B_duo_mic.wav  \n",
       "00_BN2-166-Ab  audio_mono-mic/00_BN2-166-Ab_duo_mic.wav  \n",
       "00_BN3-119-G    audio_mono-mic/00_BN3-119-G_duo_mic.wav  \n",
       "...                                                 ...  \n",
       "05_SS1-68-E      audio_mono-mic/05_SS1-68-E_duo_mic.wav  \n",
       "05_SS2-107-Ab  audio_mono-mic/05_SS2-107-Ab_duo_mic.wav  \n",
       "05_SS2-88-F      audio_mono-mic/05_SS2-88-F_duo_mic.wav  \n",
       "05_SS3-84-Bb    audio_mono-mic/05_SS3-84-Bb_duo_mic.wav  \n",
       "05_SS3-98-C      audio_mono-mic/05_SS3-98-C_duo_mic.wav  \n",
       "\n",
       "[180 rows x 7 columns]"
      ]
     },
     "execution_count": 26,
     "metadata": {},
     "output_type": "execute_result"
    }
   ],
   "source": []
  },
  {
   "cell_type": "code",
   "execution_count": 25,
   "metadata": {},
   "outputs": [
    {
     "data": {
      "text/html": [
       "<div>\n",
       "<style scoped>\n",
       "    .dataframe tbody tr th:only-of-type {\n",
       "        vertical-align: middle;\n",
       "    }\n",
       "\n",
       "    .dataframe tbody tr th {\n",
       "        vertical-align: top;\n",
       "    }\n",
       "\n",
       "    .dataframe thead th {\n",
       "        text-align: right;\n",
       "    }\n",
       "</style>\n",
       "<table border=\"1\" class=\"dataframe\">\n",
       "  <thead>\n",
       "    <tr style=\"text-align: right;\">\n",
       "      <th></th>\n",
       "      <th>madmom</th>\n",
       "      <th>crema</th>\n",
       "      <th>crema_aug</th>\n",
       "    </tr>\n",
       "    <tr>\n",
       "      <th>truth</th>\n",
       "      <th></th>\n",
       "      <th></th>\n",
       "      <th></th>\n",
       "    </tr>\n",
       "  </thead>\n",
       "  <tbody>\n",
       "    <tr>\n",
       "      <td>A major</td>\n",
       "      <td>1</td>\n",
       "      <td>1</td>\n",
       "      <td>1</td>\n",
       "    </tr>\n",
       "    <tr>\n",
       "      <td>B major</td>\n",
       "      <td>1</td>\n",
       "      <td>1</td>\n",
       "      <td>1</td>\n",
       "    </tr>\n",
       "    <tr>\n",
       "      <td>Bb major</td>\n",
       "      <td>3</td>\n",
       "      <td>3</td>\n",
       "      <td>3</td>\n",
       "    </tr>\n",
       "    <tr>\n",
       "      <td>Bb minor</td>\n",
       "      <td>2</td>\n",
       "      <td>2</td>\n",
       "      <td>2</td>\n",
       "    </tr>\n",
       "    <tr>\n",
       "      <td>C major</td>\n",
       "      <td>3</td>\n",
       "      <td>3</td>\n",
       "      <td>3</td>\n",
       "    </tr>\n",
       "    <tr>\n",
       "      <td>C# major</td>\n",
       "      <td>8</td>\n",
       "      <td>8</td>\n",
       "      <td>8</td>\n",
       "    </tr>\n",
       "    <tr>\n",
       "      <td>D major</td>\n",
       "      <td>1</td>\n",
       "      <td>1</td>\n",
       "      <td>1</td>\n",
       "    </tr>\n",
       "    <tr>\n",
       "      <td>D minor</td>\n",
       "      <td>1</td>\n",
       "      <td>1</td>\n",
       "      <td>1</td>\n",
       "    </tr>\n",
       "    <tr>\n",
       "      <td>E major</td>\n",
       "      <td>4</td>\n",
       "      <td>4</td>\n",
       "      <td>4</td>\n",
       "    </tr>\n",
       "    <tr>\n",
       "      <td>Eb major</td>\n",
       "      <td>3</td>\n",
       "      <td>3</td>\n",
       "      <td>3</td>\n",
       "    </tr>\n",
       "    <tr>\n",
       "      <td>F minor</td>\n",
       "      <td>4</td>\n",
       "      <td>4</td>\n",
       "      <td>4</td>\n",
       "    </tr>\n",
       "    <tr>\n",
       "      <td>F# minor</td>\n",
       "      <td>1</td>\n",
       "      <td>1</td>\n",
       "      <td>1</td>\n",
       "    </tr>\n",
       "    <tr>\n",
       "      <td>G major</td>\n",
       "      <td>1</td>\n",
       "      <td>1</td>\n",
       "      <td>1</td>\n",
       "    </tr>\n",
       "    <tr>\n",
       "      <td>G minor</td>\n",
       "      <td>3</td>\n",
       "      <td>3</td>\n",
       "      <td>3</td>\n",
       "    </tr>\n",
       "  </tbody>\n",
       "</table>\n",
       "</div>"
      ],
      "text/plain": [
       "          madmom  crema  crema_aug\n",
       "truth                             \n",
       "A major        1      1          1\n",
       "B major        1      1          1\n",
       "Bb major       3      3          3\n",
       "Bb minor       2      2          2\n",
       "C major        3      3          3\n",
       "C# major       8      8          8\n",
       "D major        1      1          1\n",
       "D minor        1      1          1\n",
       "E major        4      4          4\n",
       "Eb major       3      3          3\n",
       "F minor        4      4          4\n",
       "F# minor       1      1          1\n",
       "G major        1      1          1\n",
       "G minor        3      3          3"
      ]
     },
     "execution_count": 25,
     "metadata": {},
     "output_type": "execute_result"
    }
   ],
   "source": [
    "gs_solo_result.groupby('truth')\\"
   ]
  },
  {
   "cell_type": "markdown",
   "metadata": {},
   "source": [
    "## MIDI\n",
    "- Test with idealized midi\n",
    "- train with same data\n",
    "- Synthenized methods"
   ]
  },
  {
   "cell_type": "code",
   "execution_count": 12,
   "metadata": {},
   "outputs": [
    {
     "name": "stderr",
     "output_type": "stream",
     "text": [
      "100%|██████████| 36/36 [04:54<00:00,  9.30s/it]"
     ]
    },
    {
     "name": "stdout",
     "output_type": "stream",
     "text": [
      "weighted mirex scores:\n",
      "\t madmom : 0.7444444444444445\n",
      "\t crema  : 0.9527777777777777\n",
      "\t crema_aug  : 0.8722222222222222\n"
     ]
    },
    {
     "name": "stderr",
     "output_type": "stream",
     "text": [
      "\n"
     ]
    }
   ],
   "source": [
    "# ONLY ON DUO\n",
    "label_true = []\n",
    "label_madmom = []\n",
    "label_crema = []\n",
    "label_crema_aug = []\n",
    "\n",
    "for val_id in tqdm(gs_val_index):\n",
    "    jam_path = os.path.join(GS_HOME, gs_index.jams_comp[val_id])\n",
    "    mic_path = os.path.join(GS_HOME, gs_index.audio_mic_duo[val_id])\n",
    "    \n",
    "    ann_true = jams.load(jam_path).search(namespace='key_mode')[0]\n",
    "    l_true = ann_to_label(ann_true)\n",
    "    label_true.append(' '.join(l_true.split(':')))\n",
    "    label_madmom.append(mka.to_label(mic_path))\n",
    "    label_crema.append(cka_gs.to_label(mic_path))\n",
    "    label_crema_aug.append(cka_gs_aug.to_label(mic_path))\n",
    "\n",
    "gs_duo_result = pd.DataFrame(data={'truth':label_true, 'madmom':label_madmom, 'crema':label_crema, 'crema_aug':label_crema_aug}, \n",
    "                             index=gs_val_index)\n",
    "\n",
    "result_df_to_score_(c)"
   ]
  },
  {
   "cell_type": "code",
   "execution_count": 20,
   "metadata": {},
   "outputs": [
    {
     "data": {
      "text/html": [
       "<div>\n",
       "<style scoped>\n",
       "    .dataframe tbody tr th:only-of-type {\n",
       "        vertical-align: middle;\n",
       "    }\n",
       "\n",
       "    .dataframe tbody tr th {\n",
       "        vertical-align: top;\n",
       "    }\n",
       "\n",
       "    .dataframe thead th {\n",
       "        text-align: right;\n",
       "    }\n",
       "</style>\n",
       "<table border=\"1\" class=\"dataframe\">\n",
       "  <thead>\n",
       "    <tr style=\"text-align: right;\">\n",
       "      <th></th>\n",
       "      <th>truth</th>\n",
       "      <th>madmom</th>\n",
       "      <th>crema</th>\n",
       "      <th>crema_aug</th>\n",
       "    </tr>\n",
       "    <tr>\n",
       "      <th>0</th>\n",
       "      <th></th>\n",
       "      <th></th>\n",
       "      <th></th>\n",
       "      <th></th>\n",
       "    </tr>\n",
       "  </thead>\n",
       "  <tbody>\n",
       "    <tr>\n",
       "      <td>04_Jazz2-110-Bb</td>\n",
       "      <td>Bb minor</td>\n",
       "      <td>Db major</td>\n",
       "      <td>A# minor</td>\n",
       "      <td>C# major</td>\n",
       "    </tr>\n",
       "    <tr>\n",
       "      <td>05_Jazz1-130-D</td>\n",
       "      <td>D major</td>\n",
       "      <td>D major</td>\n",
       "      <td>C major</td>\n",
       "      <td>D major</td>\n",
       "    </tr>\n",
       "    <tr>\n",
       "      <td>00_Funk2-119-G</td>\n",
       "      <td>G minor</td>\n",
       "      <td>Bb major</td>\n",
       "      <td>G minor</td>\n",
       "      <td>D minor</td>\n",
       "    </tr>\n",
       "    <tr>\n",
       "      <td>02_Funk2-119-G</td>\n",
       "      <td>G minor</td>\n",
       "      <td>G minor</td>\n",
       "      <td>A# major</td>\n",
       "      <td>G minor</td>\n",
       "    </tr>\n",
       "    <tr>\n",
       "      <td>05_Jazz1-200-B</td>\n",
       "      <td>B major</td>\n",
       "      <td>E major</td>\n",
       "      <td>B major</td>\n",
       "      <td>E major</td>\n",
       "    </tr>\n",
       "    <tr>\n",
       "      <td>00_Jazz2-110-Bb</td>\n",
       "      <td>Bb minor</td>\n",
       "      <td>Db major</td>\n",
       "      <td>A# minor</td>\n",
       "      <td>C# major</td>\n",
       "    </tr>\n",
       "    <tr>\n",
       "      <td>01_BN3-119-G</td>\n",
       "      <td>G major</td>\n",
       "      <td>G major</td>\n",
       "      <td>G major</td>\n",
       "      <td>D major</td>\n",
       "    </tr>\n",
       "    <tr>\n",
       "      <td>05_Funk2-119-G</td>\n",
       "      <td>G minor</td>\n",
       "      <td>G minor</td>\n",
       "      <td>G minor</td>\n",
       "      <td>D minor</td>\n",
       "    </tr>\n",
       "    <tr>\n",
       "      <td>01_Jazz2-187-F#</td>\n",
       "      <td>F# minor</td>\n",
       "      <td>F# minor</td>\n",
       "      <td>F# minor</td>\n",
       "      <td>A major</td>\n",
       "    </tr>\n",
       "  </tbody>\n",
       "</table>\n",
       "</div>"
      ],
      "text/plain": [
       "                    truth    madmom     crema crema_aug\n",
       "0                                                      \n",
       "04_Jazz2-110-Bb  Bb minor  Db major  A# minor  C# major\n",
       "05_Jazz1-130-D    D major   D major   C major   D major\n",
       "00_Funk2-119-G    G minor  Bb major   G minor   D minor\n",
       "02_Funk2-119-G    G minor   G minor  A# major   G minor\n",
       "05_Jazz1-200-B    B major   E major   B major   E major\n",
       "00_Jazz2-110-Bb  Bb minor  Db major  A# minor  C# major\n",
       "01_BN3-119-G      G major   G major   G major   D major\n",
       "05_Funk2-119-G    G minor   G minor   G minor   D minor\n",
       "01_Jazz2-187-F#  F# minor  F# minor  F# minor   A major"
      ]
     },
     "execution_count": 20,
     "metadata": {},
     "output_type": "execute_result"
    }
   ],
   "source": [
    "gs_duo_result[gs_duo_result.crema != gs_duo_result.crema_aug]"
   ]
  },
  {
   "cell_type": "markdown",
   "metadata": {},
   "source": [
    "## Next steps\n",
    "- implement segment by segment key tag valuation.\n",
    "- if it's not minor/major, then it's major.\n",
    "- find more audio dataset to feed it\n",
    "- do the MIDI dataset pipeline\n",
    "- See how the structured output helps the model"
   ]
  },
  {
   "cell_type": "code",
   "execution_count": 13,
   "metadata": {},
   "outputs": [],
   "source": [
    "AMAPS_HOME = '/Users/tom/Music/A-MAPS/'\n",
    "val_index = pd.read_json('dataset_indecies/amaps_val_idx.json')[0]\n",
    "amaps_index = pd.read_json('dataset_indecies/amaps_index.json')"
   ]
  },
  {
   "cell_type": "code",
   "execution_count": 14,
   "metadata": {},
   "outputs": [
    {
     "data": {
      "text/plain": [
       "Index(['MAPS_MUS-alb_esp2_AkPnCGdD', 'MAPS_MUS-alb_esp2_AkPnStgb',\n",
       "       'MAPS_MUS-alb_esp2_SptkBGAm', 'MAPS_MUS-alb_esp2_SptkBGCl',\n",
       "       'MAPS_MUS-alb_esp3_AkPnCGdD', 'MAPS_MUS-alb_esp4_AkPnStgb',\n",
       "       'MAPS_MUS-alb_esp5_SptkBGCl', 'MAPS_MUS-alb_esp6_SptkBGCl',\n",
       "       'MAPS_MUS-alb_se2_ENSTDkCl', 'MAPS_MUS-alb_se2_StbgTGd2',\n",
       "       ...\n",
       "       'MAPS_MUS-ty_november_ENSTDkAm', 'MAPS_MUS-ty_november_SptkBGCl',\n",
       "       'MAPS_MUS-ty_oktober_SptkBGAm', 'MAPS_MUS-ty_september_AkPnStgb',\n",
       "       'MAPS_MUS-ty_september_SptkBGAm', 'MAPS_MUS-waldstein_1_AkPnBsdf',\n",
       "       'MAPS_MUS-waldstein_1_AkPnStgb', 'MAPS_MUS-waldstein_1_ENSTDkAm',\n",
       "       'MAPS_MUS-waldstein_2_AkPnCGdD', 'MAPS_MUS-waldstein_3_SptkBGCl'],\n",
       "      dtype='object', length=266)"
      ]
     },
     "execution_count": 14,
     "metadata": {},
     "output_type": "execute_result"
    }
   ],
   "source": [
    "amaps_index.index"
   ]
  },
  {
   "cell_type": "code",
   "execution_count": 15,
   "metadata": {},
   "outputs": [
    {
     "name": "stderr",
     "output_type": "stream",
     "text": [
      " 88%|████████▊ | 44/50 [25:36<02:01, 20.19s/it]\n",
      "KeyboardInterrupt\n",
      "\n"
     ]
    }
   ],
   "source": [
    "label_true = []\n",
    "label_madmom = []\n",
    "label_crema = []\n",
    "label_crema_aug = []\n",
    "\n",
    "for track_id in tqdm(val_index):\n",
    "    jam_path = os.path.join(AMAPS_HOME, amaps_index.jams[track_id])\n",
    "    mic_path = os.path.join(AMAPS_HOME, amaps_index.audio[track_id])\n",
    "    \n",
    "    ann_true = jams.load(jam_path).search(namespace='key_mode')[0]\n",
    "    l_true = ann_to_label(ann_true)\n",
    "    label_true.append(' '.join(l_true.split(':')))\n",
    "    label_madmom.append(mka.to_label(mic_path))\n",
    "    label_crema.append(cka_gs.to_label(mic_path))\n",
    "    label_crema_aug.append(cka_gs_aug.to_label(mic_path))\n",
    "\n",
    "amaps_result = pd.DataFrame(data={'truth':label_true, 'madmom':label_madmom, 'crema':label_crema, 'crema_aug':label_crema_aug}, \n",
    "                            index=val_index)\n",
    "\n",
    "result_df_to_score_(amaps_result)"
   ]
  },
  {
   "cell_type": "code",
   "execution_count": 43,
   "metadata": {},
   "outputs": [],
   "source": [
    "import matplotlib.pyplot as plt\n",
    "import librosa.display"
   ]
  },
  {
   "cell_type": "code",
   "execution_count": null,
   "metadata": {},
   "outputs": [],
   "source": [
    "amaps_result"
   ]
  },
  {
   "cell_type": "code",
   "execution_count": 29,
   "metadata": {},
   "outputs": [],
   "source": [
    "model = cka_gs.model"
   ]
  },
  {
   "cell_type": "code",
   "execution_count": 57,
   "metadata": {},
   "outputs": [],
   "source": [
    "aud_path = os.path.join(GS_HOME, gs_index.audio_mic_duo['04_Jazz2-110-Bb'])\n",
    "jam_path = os.path.join(GS_HOME, gs_index.jams_solo['04_Jazz2-110-Bb'])"
   ]
  },
  {
   "cell_type": "code",
   "execution_count": 58,
   "metadata": {},
   "outputs": [],
   "source": [
    "gs_output = cka_gs.model.outputs(filename=aud_path)\n",
    "gs_aug_output = cka_gs_aug.model.outputs(filename=aud_path)"
   ]
  },
  {
   "cell_type": "code",
   "execution_count": 60,
   "metadata": {},
   "outputs": [],
   "source": [
    "gs_feature = cka_gs_aug.model.pump.transform(audio_f=aud_path, jam=jam_path)"
   ]
  },
  {
   "cell_type": "code",
   "execution_count": 61,
   "metadata": {},
   "outputs": [
    {
     "data": {
      "text/plain": [
       "dict_keys(['chord_struct/pitch', 'chord_struct/root', 'chord_struct/bass', 'key_tag/tag', 'key_tag/_valid', 'key_struct/tonic', 'key_struct/pitch_profile', 'key_struct/_valid'])"
      ]
     },
     "execution_count": 61,
     "metadata": {},
     "output_type": "execute_result"
    }
   ],
   "source": [
    "gs_feature.keys()"
   ]
  },
  {
   "cell_type": "code",
   "execution_count": 65,
   "metadata": {},
   "outputs": [
    {
     "data": {
      "text/plain": [
       "(375, 12)"
      ]
     },
     "execution_count": 65,
     "metadata": {},
     "output_type": "execute_result"
    }
   ],
   "source": [
    "gs_feature['chord_struct/pitch'].squeeze().shape"
   ]
  },
  {
   "cell_type": "code",
   "execution_count": 70,
   "metadata": {},
   "outputs": [
    {
     "data": {
      "text/plain": [
       "<matplotlib.colorbar.Colorbar at 0x1ca1227f90>"
      ]
     },
     "execution_count": 70,
     "metadata": {},
     "output_type": "execute_result"
    },
    {
     "data": {
      "image/png": "[encoded data removed]",
      "text/plain": [
       "<Figure size 864x648 with 4 Axes>"
      ]
     },
     "metadata": {
      "needs_background": "light"
     },
     "output_type": "display_data"
    }
   ],
   "source": [
    "plt.figure(figsize=[12, 9])\n",
    "\n",
    "plt.subplot(2, 1, 1)\n",
    "librosa.display.specshow(gs_feature['chord_struct/pitch'].squeeze().T, y_axis='chroma')\n",
    "plt.colorbar()\n",
    "plt.subplot(2, 1, 2)\n",
    "librosa.display.specshow(gs_feature['chord_struct/root'].squeeze().T, y_axis='chroma')\n",
    "plt.colorbar()"
   ]
  },
  {
   "cell_type": "code",
   "execution_count": 46,
   "metadata": {},
   "outputs": [
    {
     "data": {
      "text/plain": [
       "<matplotlib.colorbar.Colorbar at 0x1c9bece7d0>"
      ]
     },
     "execution_count": 46,
     "metadata": {},
     "output_type": "execute_result"
    },
    {
     "data": {
      "image/png": "[encoded data removed]",
      "text/plain": [
       "<Figure size 432x288 with 2 Axes>"
      ]
     },
     "metadata": {
      "needs_background": "light"
     },
     "output_type": "display_data"
    }
   ],
   "source": [
    "librosa.display.specshow(gs_aug_output['key_profile'].T, y_axis='chroma')\n",
    "plt.colorbar()"
   ]
  },
  {
   "cell_type": "code",
   "execution_count": 47,
   "metadata": {},
   "outputs": [
    {
     "data": {
      "text/plain": [
       "<matplotlib.colorbar.Colorbar at 0x1c9ca44fd0>"
      ]
     },
     "execution_count": 47,
     "metadata": {},
     "output_type": "execute_result"
    },
    {
     "data": {
      "image/png": "[encoded data removed]",
      "text/plain": [
       "<Figure size 432x288 with 2 Axes>"
      ]
     },
     "metadata": {
      "needs_background": "light"
     },
     "output_type": "display_data"
    }
   ],
   "source": [
    "librosa.display.specshow(gs_output['key_profile'].T, y_axis='chroma')\n",
    "plt.colorbar()"
   ]
  },
  {
   "cell_type": "code",
   "execution_count": 50,
   "metadata": {},
   "outputs": [
    {
     "data": {
      "text/plain": [
       "dict_keys(['key_tag', 'key_tonic', 'key_profile'])"
      ]
     },
     "execution_count": 50,
     "metadata": {},
     "output_type": "execute_result"
    }
   ],
   "source": [
    "gs_output.keys()"
   ]
  },
  {
   "cell_type": "code",
   "execution_count": 51,
   "metadata": {},
   "outputs": [
    {
     "data": {
      "text/plain": [
       "<matplotlib.colorbar.Colorbar at 0x1c9ce88190>"
      ]
     },
     "execution_count": 51,
     "metadata": {},
     "output_type": "execute_result"
    },
    {
     "data": {
      "image/png": "[encoded data removed]",
      "text/plain": [
       "<Figure size 432x288 with 2 Axes>"
      ]
     },
     "metadata": {
      "needs_background": "light"
     },
     "output_type": "display_data"
    }
   ],
   "source": [
    "librosa.display.specshow(gs_output['key_tonic'].T, y_axis='chroma')\n",
    "plt.colorbar()"
   ]
  },
  {
   "cell_type": "code",
   "execution_count": 52,
   "metadata": {},
   "outputs": [
    {
     "data": {
      "text/plain": [
       "<matplotlib.colorbar.Colorbar at 0x1c9d01ee50>"
      ]
     },
     "execution_count": 52,
     "metadata": {},
     "output_type": "execute_result"
    },
    {
     "data": {
      "image/png": "[encoded data removed]",
      "text/plain": [
       "<Figure size 432x288 with 2 Axes>"
      ]
     },
     "metadata": {
      "needs_background": "light"
     },
     "output_type": "display_data"
    }
   ],
   "source": [
    "librosa.display.specshow(gs_aug_output['key_tonic'].T, y_axis='chroma')\n",
    "plt.colorbar()"
   ]
  },
  {
   "cell_type": "code",
   "execution_count": 53,
   "metadata": {},
   "outputs": [
    {
     "data": {
      "text/plain": [
       "<matplotlib.colorbar.Colorbar at 0x1c9d111c90>"
      ]
     },
     "execution_count": 53,
     "metadata": {},
     "output_type": "execute_result"
    },
    {
     "data": {
      "image/png": "[encoded data removed]",
      "text/plain": [
       "<Figure size 432x288 with 4 Axes>"
      ]
     },
     "metadata": {
      "needs_background": "light"
     },
     "output_type": "display_data"
    }
   ],
   "source": [
    "plt.subplot(2,1,1)\n",
    "\n",
    "librosa.display.specshow(gs_aug_output['key_tag'].T, y_axis='chroma')\n",
    "plt.colorbar()\n",
    "\n",
    "plt.subplot(2,1,2)\n",
    "librosa.display.specshow(gs_output['key_tag'].T, y_axis='chroma')\n",
    "plt.colorbar()"
   ]
  },
  {
   "cell_type": "code",
   "execution_count": null,
   "metadata": {},
   "outputs": [],
   "source": []
  }
 ],
 "metadata": {
  "kernelspec": {
   "display_name": "Python [conda env:keys] *",
   "language": "python",
   "name": "conda-env-keys-py"
  },
  "language_info": {
   "codemirror_mode": {
    "name": "ipython",
    "version": 3
   },
   "file_extension": ".py",
   "mimetype": "text/x-python",
   "name": "python",
   "nbconvert_exporter": "python",
   "pygments_lexer": "ipython3",
   "version": "3.7.4"
  }
 },
 "nbformat": 4,
 "nbformat_minor": 4
}
